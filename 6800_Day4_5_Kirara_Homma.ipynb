{
  "cells": [
    {
      "cell_type": "markdown",
      "metadata": {
        "id": "view-in-github",
        "colab_type": "text"
      },
      "source": [
        "<a href=\"https://colab.research.google.com/github/Kirara-H/PromotionskollegModule6800_2025/blob/master/6800_Day4_5_Kirara_Homma.ipynb\" target=\"_parent\"><img src=\"https://colab.research.google.com/assets/colab-badge.svg\" alt=\"Open In Colab\"/></a>"
      ]
    },
    {
      "cell_type": "markdown",
      "metadata": {
        "id": "71QCGinKTAAf"
      },
      "source": [
        "# Day 4-5: Code used during lecture and lab assignment\n"
      ]
    },
    {
      "cell_type": "markdown",
      "metadata": {
        "id": "MRwTIIF1s764"
      },
      "source": [
        "## Instructions\n",
        "\n",
        "- The notebook combines 'code used during lecture' with the corresponding lab assignment (see further down)\n",
        "- Please add answers/discussion/comments to the notebook as comments or text box. Do not create another file in addition.\n",
        "- When you are done with your assignment, save the notebook in drive and add your last name to the name of the file.\n",
        "- To hand in the final notebook follow the instructions provided by email\n",
        "\n"
      ]
    },
    {
      "cell_type": "markdown",
      "metadata": {
        "id": "UBjm-4D-Tg-L"
      },
      "source": [
        "# Code used during lecture: Causal Forest synthetic data\n",
        "\n",
        "__General idea of this section:__\n",
        "In this section we create synthetic data where we have a continous treatment and treatment effect are heterogenous. Treatment hererogeneity depends on only one variable, but we give the model multiple variables to check if it can identify which variables impacts treatment heterogeneity. Additionally, we check if the model can estimate the heterogeneity correctly.  \n",
        "\n",
        "\n",
        "The example is based on: https://github.com/py-why/EconML/blob/main/notebooks/Causal%20Forest%20and%20Orthogonal%20Random%20Forest%20Examples.ipynb\n",
        "\n"
      ]
    },
    {
      "cell_type": "code",
      "source": [
        "# Install the econml package.\n",
        "# See documentation https://econml.azurewebsites.net/index.html\n",
        "!pip install -q econml"
      ],
      "metadata": {
        "id": "u5TIkrHvRqAU",
        "outputId": "5d10f938-edfa-4006-edb2-454e0a9279e7",
        "colab": {
          "base_uri": "https://localhost:8080/"
        }
      },
      "execution_count": 2,
      "outputs": [
        {
          "output_type": "stream",
          "name": "stdout",
          "text": [
            "\u001b[?25l   \u001b[90m━━━━━━━━━━━━━━━━━━━━━━━━━━━━━━━━━━━━━━━━\u001b[0m \u001b[32m0.0/5.4 MB\u001b[0m \u001b[31m?\u001b[0m eta \u001b[36m-:--:--\u001b[0m\r\u001b[2K   \u001b[91m━━━━━━━━━━━━━\u001b[0m\u001b[90m╺\u001b[0m\u001b[90m━━━━━━━━━━━━━━━━━━━━━━━━━━\u001b[0m \u001b[32m1.8/5.4 MB\u001b[0m \u001b[31m53.0 MB/s\u001b[0m eta \u001b[36m0:00:01\u001b[0m\r\u001b[2K   \u001b[91m━━━━━━━━━━━━━━━━━━━━━━━━━━━━━━━━━━━━━━━\u001b[0m\u001b[91m╸\u001b[0m \u001b[32m5.4/5.4 MB\u001b[0m \u001b[31m78.4 MB/s\u001b[0m eta \u001b[36m0:00:01\u001b[0m\r\u001b[2K   \u001b[91m━━━━━━━━━━━━━━━━━━━━━━━━━━━━━━━━━━━━━━━\u001b[0m\u001b[91m╸\u001b[0m \u001b[32m5.4/5.4 MB\u001b[0m \u001b[31m78.4 MB/s\u001b[0m eta \u001b[36m0:00:01\u001b[0m\r\u001b[2K   \u001b[90m━━━━━━━━━━━━━━━━━━━━━━━━━━━━━━━━━━━━━━━━\u001b[0m \u001b[32m5.4/5.4 MB\u001b[0m \u001b[31m46.1 MB/s\u001b[0m eta \u001b[36m0:00:00\u001b[0m\n",
            "\u001b[?25h\u001b[?25l   \u001b[90m━━━━━━━━━━━━━━━━━━━━━━━━━━━━━━━━━━━━━━━━\u001b[0m \u001b[32m0.0/259.4 kB\u001b[0m \u001b[31m?\u001b[0m eta \u001b[36m-:--:--\u001b[0m\r\u001b[2K   \u001b[90m━━━━━━━━━━━━━━━━━━━━━━━━━━━━━━━━━━━━━━━━\u001b[0m \u001b[32m259.4/259.4 kB\u001b[0m \u001b[31m19.2 MB/s\u001b[0m eta \u001b[36m0:00:00\u001b[0m\n",
            "\u001b[?25h"
          ]
        }
      ]
    },
    {
      "cell_type": "code",
      "source": [
        "# Main imports\n",
        "from econml.orf import DMLOrthoForest, DROrthoForest\n",
        "from econml.dml import CausalForestDML\n",
        "from econml.sklearn_extensions.linear_model import WeightedLassoCVWrapper, WeightedLasso\n",
        "import shap\n",
        "\n",
        "# Helper imports\n",
        "import numpy as np\n",
        "import pandas as pd\n",
        "from itertools import product\n",
        "from sklearn.linear_model import Lasso, LogisticRegression\n",
        "from sklearn.ensemble import RandomForestRegressor,RandomForestClassifier\n",
        "import matplotlib.pyplot as plt\n",
        "import seaborn as sns\n",
        "\n",
        "%matplotlib inline"
      ],
      "metadata": {
        "id": "jpXpr_3YRvyy"
      },
      "execution_count": 3,
      "outputs": []
    },
    {
      "cell_type": "markdown",
      "source": [
        "\n",
        "We use the data generating process (DGP) from [here](https://arxiv.org/abs/1806.03467). The DGP is described by the following equations:\n",
        "\n",
        "\\begin{align}\n",
        "T =& W \\beta + \\eta, & \\;\\eta \\sim \\text{Uniform}(-1, 1)\\\\\n",
        "Y =& T\\cdot \\theta(X) + W \\gamma + \\epsilon, &\\; \\epsilon \\sim \\text{Uniform}(-1, 1)\\\\\n",
        "W \\sim& \\text{Normal}(0,\\, I_{n_w})\\\\\n",
        "X \\sim& \\text{Uniform}(0,1)^{n_x}\n",
        "\\end{align}\n",
        "\n",
        "where $W$ is a matrix of high-dimensional confounders and $\\beta, \\gamma$ have high sparsity.\n",
        "\n",
        "For this DGP,\n",
        "\\begin{align}\n",
        "\\theta(x) = \\exp(2\\cdot x_1).\n",
        "\\end{align}"
      ],
      "metadata": {
        "id": "ZQLMaoc_emlX"
      }
    },
    {
      "cell_type": "markdown",
      "source": [
        "T: continous treatment\n",
        "Y: outcome consists of T*theta (a functin of x)\n",
        "Treatment effect is affected by x_1"
      ],
      "metadata": {
        "id": "AoZq0w8AEZV1"
      }
    },
    {
      "cell_type": "code",
      "source": [
        "# Set a random seed for reproducability\n",
        "np.random.seed(123)\n",
        "# Number of observations\n",
        "n = 1000\n",
        "# Number of potential covariates in W\n",
        "n_w = 30\n",
        "# Number of covariates that actually impact Y (out of 30, only 5 affects TE)\n",
        "support_size = 5\n",
        "# Number of covariates to consider for treatment heterogeneity\n",
        "n_x = 3\n",
        "\n",
        "# Select randomly which variables i.e. columns of W actually impact Y\n",
        "support_Y = np.random.choice(range(n_w), size=support_size, replace=False)\n",
        "# Generate coefficients gamma\n",
        "coefs_Y = np.random.uniform(0, 1, size=support_size)\n",
        "\n",
        "# Treatment support, select which variables out of the support from Y\n",
        "# that impacts T)\n",
        "support_T = support_Y\n",
        "# Generate coefficients beta\n",
        "coefs_T = np.random.uniform(0, 1, size=support_size)\n",
        "\n",
        "# Generate controls, covariates, treatments and outcomes\n",
        "W = np.random.normal(0, 1, size=(n, n_w))\n",
        "X = np.random.uniform(0, 1, size=(n, n_x))\n",
        "# X = np.random.normal(0, 1, size=(n, n_x)) # alternative specification\n",
        "\n",
        "# Sample random uniform errors\n",
        "epsilon = np.random.uniform(-1, 1, size=n)\n",
        "eta = np.random.uniform(-1, 1, size=n)\n",
        "\n",
        "# Derive heterogeneous treatment effects where only first column\n",
        "# actually impacts treatment effects\n",
        "TE = np.exp(2*X[:,0])\n",
        "# Define treatment\n",
        "T = W[:, support_T] @ coefs_T + eta\n",
        "# Define outcome Y\n",
        "Y = TE * T + W[:, support_Y] @ coefs_Y + epsilon\n"
      ],
      "metadata": {
        "id": "KaZxR93ER5-n"
      },
      "execution_count": 4,
      "outputs": []
    },
    {
      "cell_type": "code",
      "source": [
        "X #T"
      ],
      "metadata": {
        "id": "4iofduZtGKdz",
        "outputId": "aabddd6c-7155-4d26-808b-91ba53ab50a9",
        "colab": {
          "base_uri": "https://localhost:8080/"
        }
      },
      "execution_count": 5,
      "outputs": [
        {
          "output_type": "execute_result",
          "data": {
            "text/plain": [
              "array([[0.64007606, 0.57899901, 0.3549982 ],\n",
              "       [0.27045169, 0.03410393, 0.05578299],\n",
              "       [0.76340788, 0.83211272, 0.83720816],\n",
              "       ...,\n",
              "       [0.75359092, 0.56111263, 0.94520446],\n",
              "       [0.5189793 , 0.35204634, 0.58549863],\n",
              "       [0.36609612, 0.19846527, 0.37649232]])"
            ]
          },
          "metadata": {},
          "execution_count": 5
        }
      ]
    },
    {
      "cell_type": "code",
      "source": [
        "# Define the model\n",
        "estSyn = CausalForestDML(model_y=RandomForestRegressor(), # modeling outcome\n",
        "                       model_t=RandomForestRegressor(), # modeling treatment effect\n",
        "                       n_estimators=4000, min_samples_leaf=5,\n",
        "                       max_depth=50,\n",
        "                       verbose=0,\n",
        "                       random_state=123)\n",
        "# Tune the model\n",
        "estSyn.tune(Y, T, X=X, W=W)\n",
        "# Fit the model\n",
        "estSyn.fit(Y, T, X=X, W=W)\n"
      ],
      "metadata": {
        "id": "zWH9LjNxR8k5",
        "outputId": "100b1b91-5924-42cf-9bef-cae98da7868b",
        "colab": {
          "base_uri": "https://localhost:8080/"
        }
      },
      "execution_count": 6,
      "outputs": [
        {
          "output_type": "execute_result",
          "data": {
            "text/plain": [
              "<econml.dml.causal_forest.CausalForestDML at 0x7e83d930f2c0>"
            ]
          },
          "metadata": {},
          "execution_count": 6
        }
      ]
    },
    {
      "cell_type": "code",
      "source": [
        "# Check performance of first stage model (Treatment selection model)\n",
        "## get R2\n",
        "estSyn.models_t[0][0].score(np.concatenate([X,W],axis=1),T)"
      ],
      "metadata": {
        "id": "nn1xEMO3bEtj",
        "outputId": "4fe438f6-3a9a-4556-d944-0a417d019355",
        "colab": {
          "base_uri": "https://localhost:8080/"
        }
      },
      "execution_count": 7,
      "outputs": [
        {
          "output_type": "execute_result",
          "data": {
            "text/plain": [
              "0.839253169448463"
            ]
          },
          "metadata": {},
          "execution_count": 7
        }
      ]
    },
    {
      "cell_type": "code",
      "source": [
        "# Check performance of second stage model (Outcome model)\n",
        "## get R2\n",
        "estSyn.models_y[0][0].score(np.concatenate([X,W],axis=1),Y)"
      ],
      "metadata": {
        "id": "goxFD7Eqa_lS",
        "outputId": "273ff8e3-1729-4015-8cda-a7a197c3beec",
        "colab": {
          "base_uri": "https://localhost:8080/"
        }
      },
      "execution_count": 8,
      "outputs": [
        {
          "output_type": "execute_result",
          "data": {
            "text/plain": [
              "0.7685646184503052"
            ]
          },
          "metadata": {},
          "execution_count": 8
        }
      ]
    },
    {
      "cell_type": "code",
      "source": [
        "# Define test data, for plots below\n",
        "\n",
        "# Note if we increase the n_x you might need to increase the increments\n",
        "# in the np.arange(0,1,increment), as this line of code creates a product\n",
        "# the size of the matrix increases exponentially and you easily run out of memory\n",
        "\n",
        "X_test = np.array(list(product(np.arange(0, 1, 0.1), repeat=n_x)))\n",
        "# X_test = np.array(list(product(np.arange(-2, 2, 0.3), repeat=n_x)))  # alternative specification\n",
        "print(X_test.shape)"
      ],
      "metadata": {
        "id": "hsWg4EL5cFAI",
        "outputId": "c34ed834-9cb1-498f-a67e-8f4191aae618",
        "colab": {
          "base_uri": "https://localhost:8080/"
        }
      },
      "execution_count": 9,
      "outputs": [
        {
          "output_type": "stream",
          "name": "stdout",
          "text": [
            "(1000, 3)\n"
          ]
        }
      ]
    },
    {
      "cell_type": "markdown",
      "source": [
        "Get result"
      ],
      "metadata": {
        "id": "vQJcUmNCHiYN"
      }
    },
    {
      "cell_type": "code",
      "source": [
        "# calculate TE for test set\n",
        "treatment_effects = estSyn.effect(X_test)\n",
        "# Calculate default (99%) confidence intervals for the test data\n",
        "te_lower, te_upper = estSyn.effect_interval(X_test, alpha=0.01)"
      ],
      "metadata": {
        "id": "yVDRaJfAcgEq"
      },
      "execution_count": 10,
      "outputs": []
    },
    {
      "cell_type": "code",
      "source": [
        "res = estSyn.effect_inference(X_test)"
      ],
      "metadata": {
        "id": "WEUIrbMLSCaG"
      },
      "execution_count": 11,
      "outputs": []
    },
    {
      "cell_type": "code",
      "source": [
        "# Have a look at all the estimated treatment effects\n",
        "res.summary_frame().head()\n",
        " # point_estimate: for each leaf"
      ],
      "metadata": {
        "id": "V_OZ7eZ5fDYz",
        "outputId": "cecef654-3144-4279-9327-d889cfb553f3",
        "colab": {
          "base_uri": "https://localhost:8080/",
          "height": 238
        }
      },
      "execution_count": 12,
      "outputs": [
        {
          "output_type": "execute_result",
          "data": {
            "text/plain": [
              "   point_estimate  stderr  zstat  pvalue  ci_lower  ci_upper\n",
              "X                                                           \n",
              "0           0.849   0.251  3.384   0.001     0.357     1.341\n",
              "1           0.846   0.251  3.365   0.001     0.353     1.339\n",
              "2           0.826   0.267  3.092   0.002     0.302     1.350\n",
              "3           0.807   0.273  2.956   0.003     0.272     1.342\n",
              "4           0.814   0.253  3.215   0.001     0.318     1.311"
            ],
            "text/html": [
              "\n",
              "  <div id=\"df-53b842b5-5f97-4dab-af7f-be157f8b9236\" class=\"colab-df-container\">\n",
              "    <div>\n",
              "<style scoped>\n",
              "    .dataframe tbody tr th:only-of-type {\n",
              "        vertical-align: middle;\n",
              "    }\n",
              "\n",
              "    .dataframe tbody tr th {\n",
              "        vertical-align: top;\n",
              "    }\n",
              "\n",
              "    .dataframe thead th {\n",
              "        text-align: right;\n",
              "    }\n",
              "</style>\n",
              "<table border=\"1\" class=\"dataframe\">\n",
              "  <thead>\n",
              "    <tr style=\"text-align: right;\">\n",
              "      <th></th>\n",
              "      <th>point_estimate</th>\n",
              "      <th>stderr</th>\n",
              "      <th>zstat</th>\n",
              "      <th>pvalue</th>\n",
              "      <th>ci_lower</th>\n",
              "      <th>ci_upper</th>\n",
              "    </tr>\n",
              "    <tr>\n",
              "      <th>X</th>\n",
              "      <th></th>\n",
              "      <th></th>\n",
              "      <th></th>\n",
              "      <th></th>\n",
              "      <th></th>\n",
              "      <th></th>\n",
              "    </tr>\n",
              "  </thead>\n",
              "  <tbody>\n",
              "    <tr>\n",
              "      <th>0</th>\n",
              "      <td>0.849</td>\n",
              "      <td>0.251</td>\n",
              "      <td>3.384</td>\n",
              "      <td>0.001</td>\n",
              "      <td>0.357</td>\n",
              "      <td>1.341</td>\n",
              "    </tr>\n",
              "    <tr>\n",
              "      <th>1</th>\n",
              "      <td>0.846</td>\n",
              "      <td>0.251</td>\n",
              "      <td>3.365</td>\n",
              "      <td>0.001</td>\n",
              "      <td>0.353</td>\n",
              "      <td>1.339</td>\n",
              "    </tr>\n",
              "    <tr>\n",
              "      <th>2</th>\n",
              "      <td>0.826</td>\n",
              "      <td>0.267</td>\n",
              "      <td>3.092</td>\n",
              "      <td>0.002</td>\n",
              "      <td>0.302</td>\n",
              "      <td>1.350</td>\n",
              "    </tr>\n",
              "    <tr>\n",
              "      <th>3</th>\n",
              "      <td>0.807</td>\n",
              "      <td>0.273</td>\n",
              "      <td>2.956</td>\n",
              "      <td>0.003</td>\n",
              "      <td>0.272</td>\n",
              "      <td>1.342</td>\n",
              "    </tr>\n",
              "    <tr>\n",
              "      <th>4</th>\n",
              "      <td>0.814</td>\n",
              "      <td>0.253</td>\n",
              "      <td>3.215</td>\n",
              "      <td>0.001</td>\n",
              "      <td>0.318</td>\n",
              "      <td>1.311</td>\n",
              "    </tr>\n",
              "  </tbody>\n",
              "</table>\n",
              "</div>\n",
              "    <div class=\"colab-df-buttons\">\n",
              "\n",
              "  <div class=\"colab-df-container\">\n",
              "    <button class=\"colab-df-convert\" onclick=\"convertToInteractive('df-53b842b5-5f97-4dab-af7f-be157f8b9236')\"\n",
              "            title=\"Convert this dataframe to an interactive table.\"\n",
              "            style=\"display:none;\">\n",
              "\n",
              "  <svg xmlns=\"http://www.w3.org/2000/svg\" height=\"24px\" viewBox=\"0 -960 960 960\">\n",
              "    <path d=\"M120-120v-720h720v720H120Zm60-500h600v-160H180v160Zm220 220h160v-160H400v160Zm0 220h160v-160H400v160ZM180-400h160v-160H180v160Zm440 0h160v-160H620v160ZM180-180h160v-160H180v160Zm440 0h160v-160H620v160Z\"/>\n",
              "  </svg>\n",
              "    </button>\n",
              "\n",
              "  <style>\n",
              "    .colab-df-container {\n",
              "      display:flex;\n",
              "      gap: 12px;\n",
              "    }\n",
              "\n",
              "    .colab-df-convert {\n",
              "      background-color: #E8F0FE;\n",
              "      border: none;\n",
              "      border-radius: 50%;\n",
              "      cursor: pointer;\n",
              "      display: none;\n",
              "      fill: #1967D2;\n",
              "      height: 32px;\n",
              "      padding: 0 0 0 0;\n",
              "      width: 32px;\n",
              "    }\n",
              "\n",
              "    .colab-df-convert:hover {\n",
              "      background-color: #E2EBFA;\n",
              "      box-shadow: 0px 1px 2px rgba(60, 64, 67, 0.3), 0px 1px 3px 1px rgba(60, 64, 67, 0.15);\n",
              "      fill: #174EA6;\n",
              "    }\n",
              "\n",
              "    .colab-df-buttons div {\n",
              "      margin-bottom: 4px;\n",
              "    }\n",
              "\n",
              "    [theme=dark] .colab-df-convert {\n",
              "      background-color: #3B4455;\n",
              "      fill: #D2E3FC;\n",
              "    }\n",
              "\n",
              "    [theme=dark] .colab-df-convert:hover {\n",
              "      background-color: #434B5C;\n",
              "      box-shadow: 0px 1px 3px 1px rgba(0, 0, 0, 0.15);\n",
              "      filter: drop-shadow(0px 1px 2px rgba(0, 0, 0, 0.3));\n",
              "      fill: #FFFFFF;\n",
              "    }\n",
              "  </style>\n",
              "\n",
              "    <script>\n",
              "      const buttonEl =\n",
              "        document.querySelector('#df-53b842b5-5f97-4dab-af7f-be157f8b9236 button.colab-df-convert');\n",
              "      buttonEl.style.display =\n",
              "        google.colab.kernel.accessAllowed ? 'block' : 'none';\n",
              "\n",
              "      async function convertToInteractive(key) {\n",
              "        const element = document.querySelector('#df-53b842b5-5f97-4dab-af7f-be157f8b9236');\n",
              "        const dataTable =\n",
              "          await google.colab.kernel.invokeFunction('convertToInteractive',\n",
              "                                                    [key], {});\n",
              "        if (!dataTable) return;\n",
              "\n",
              "        const docLinkHtml = 'Like what you see? Visit the ' +\n",
              "          '<a target=\"_blank\" href=https://colab.research.google.com/notebooks/data_table.ipynb>data table notebook</a>'\n",
              "          + ' to learn more about interactive tables.';\n",
              "        element.innerHTML = '';\n",
              "        dataTable['output_type'] = 'display_data';\n",
              "        await google.colab.output.renderOutput(dataTable, element);\n",
              "        const docLink = document.createElement('div');\n",
              "        docLink.innerHTML = docLinkHtml;\n",
              "        element.appendChild(docLink);\n",
              "      }\n",
              "    </script>\n",
              "  </div>\n",
              "\n",
              "\n",
              "    <div id=\"df-b8af5ed5-3d5e-4a86-b668-133e368811b4\">\n",
              "      <button class=\"colab-df-quickchart\" onclick=\"quickchart('df-b8af5ed5-3d5e-4a86-b668-133e368811b4')\"\n",
              "                title=\"Suggest charts\"\n",
              "                style=\"display:none;\">\n",
              "\n",
              "<svg xmlns=\"http://www.w3.org/2000/svg\" height=\"24px\"viewBox=\"0 0 24 24\"\n",
              "     width=\"24px\">\n",
              "    <g>\n",
              "        <path d=\"M19 3H5c-1.1 0-2 .9-2 2v14c0 1.1.9 2 2 2h14c1.1 0 2-.9 2-2V5c0-1.1-.9-2-2-2zM9 17H7v-7h2v7zm4 0h-2V7h2v10zm4 0h-2v-4h2v4z\"/>\n",
              "    </g>\n",
              "</svg>\n",
              "      </button>\n",
              "\n",
              "<style>\n",
              "  .colab-df-quickchart {\n",
              "      --bg-color: #E8F0FE;\n",
              "      --fill-color: #1967D2;\n",
              "      --hover-bg-color: #E2EBFA;\n",
              "      --hover-fill-color: #174EA6;\n",
              "      --disabled-fill-color: #AAA;\n",
              "      --disabled-bg-color: #DDD;\n",
              "  }\n",
              "\n",
              "  [theme=dark] .colab-df-quickchart {\n",
              "      --bg-color: #3B4455;\n",
              "      --fill-color: #D2E3FC;\n",
              "      --hover-bg-color: #434B5C;\n",
              "      --hover-fill-color: #FFFFFF;\n",
              "      --disabled-bg-color: #3B4455;\n",
              "      --disabled-fill-color: #666;\n",
              "  }\n",
              "\n",
              "  .colab-df-quickchart {\n",
              "    background-color: var(--bg-color);\n",
              "    border: none;\n",
              "    border-radius: 50%;\n",
              "    cursor: pointer;\n",
              "    display: none;\n",
              "    fill: var(--fill-color);\n",
              "    height: 32px;\n",
              "    padding: 0;\n",
              "    width: 32px;\n",
              "  }\n",
              "\n",
              "  .colab-df-quickchart:hover {\n",
              "    background-color: var(--hover-bg-color);\n",
              "    box-shadow: 0 1px 2px rgba(60, 64, 67, 0.3), 0 1px 3px 1px rgba(60, 64, 67, 0.15);\n",
              "    fill: var(--button-hover-fill-color);\n",
              "  }\n",
              "\n",
              "  .colab-df-quickchart-complete:disabled,\n",
              "  .colab-df-quickchart-complete:disabled:hover {\n",
              "    background-color: var(--disabled-bg-color);\n",
              "    fill: var(--disabled-fill-color);\n",
              "    box-shadow: none;\n",
              "  }\n",
              "\n",
              "  .colab-df-spinner {\n",
              "    border: 2px solid var(--fill-color);\n",
              "    border-color: transparent;\n",
              "    border-bottom-color: var(--fill-color);\n",
              "    animation:\n",
              "      spin 1s steps(1) infinite;\n",
              "  }\n",
              "\n",
              "  @keyframes spin {\n",
              "    0% {\n",
              "      border-color: transparent;\n",
              "      border-bottom-color: var(--fill-color);\n",
              "      border-left-color: var(--fill-color);\n",
              "    }\n",
              "    20% {\n",
              "      border-color: transparent;\n",
              "      border-left-color: var(--fill-color);\n",
              "      border-top-color: var(--fill-color);\n",
              "    }\n",
              "    30% {\n",
              "      border-color: transparent;\n",
              "      border-left-color: var(--fill-color);\n",
              "      border-top-color: var(--fill-color);\n",
              "      border-right-color: var(--fill-color);\n",
              "    }\n",
              "    40% {\n",
              "      border-color: transparent;\n",
              "      border-right-color: var(--fill-color);\n",
              "      border-top-color: var(--fill-color);\n",
              "    }\n",
              "    60% {\n",
              "      border-color: transparent;\n",
              "      border-right-color: var(--fill-color);\n",
              "    }\n",
              "    80% {\n",
              "      border-color: transparent;\n",
              "      border-right-color: var(--fill-color);\n",
              "      border-bottom-color: var(--fill-color);\n",
              "    }\n",
              "    90% {\n",
              "      border-color: transparent;\n",
              "      border-bottom-color: var(--fill-color);\n",
              "    }\n",
              "  }\n",
              "</style>\n",
              "\n",
              "      <script>\n",
              "        async function quickchart(key) {\n",
              "          const quickchartButtonEl =\n",
              "            document.querySelector('#' + key + ' button');\n",
              "          quickchartButtonEl.disabled = true;  // To prevent multiple clicks.\n",
              "          quickchartButtonEl.classList.add('colab-df-spinner');\n",
              "          try {\n",
              "            const charts = await google.colab.kernel.invokeFunction(\n",
              "                'suggestCharts', [key], {});\n",
              "          } catch (error) {\n",
              "            console.error('Error during call to suggestCharts:', error);\n",
              "          }\n",
              "          quickchartButtonEl.classList.remove('colab-df-spinner');\n",
              "          quickchartButtonEl.classList.add('colab-df-quickchart-complete');\n",
              "        }\n",
              "        (() => {\n",
              "          let quickchartButtonEl =\n",
              "            document.querySelector('#df-b8af5ed5-3d5e-4a86-b668-133e368811b4 button');\n",
              "          quickchartButtonEl.style.display =\n",
              "            google.colab.kernel.accessAllowed ? 'block' : 'none';\n",
              "        })();\n",
              "      </script>\n",
              "    </div>\n",
              "\n",
              "    </div>\n",
              "  </div>\n"
            ],
            "application/vnd.google.colaboratory.intrinsic+json": {
              "type": "dataframe",
              "summary": "{\n  \"name\": \" # point_estimate: for each leaf\",\n  \"rows\": 5,\n  \"fields\": [\n    {\n      \"column\": \"X\",\n      \"properties\": {\n        \"dtype\": \"number\",\n        \"std\": 1,\n        \"min\": 0,\n        \"max\": 4,\n        \"num_unique_values\": 5,\n        \"samples\": [\n          1,\n          4,\n          2\n        ],\n        \"semantic_type\": \"\",\n        \"description\": \"\"\n      }\n    },\n    {\n      \"column\": \"point_estimate\",\n      \"properties\": {\n        \"dtype\": \"number\",\n        \"std\": 0.01874299869284527,\n        \"min\": 0.807,\n        \"max\": 0.849,\n        \"num_unique_values\": 5,\n        \"samples\": [\n          0.846,\n          0.814,\n          0.826\n        ],\n        \"semantic_type\": \"\",\n        \"description\": \"\"\n      }\n    },\n    {\n      \"column\": \"stderr\",\n      \"properties\": {\n        \"dtype\": \"number\",\n        \"std\": 0.01029563014098701,\n        \"min\": 0.251,\n        \"max\": 0.273,\n        \"num_unique_values\": 4,\n        \"samples\": [\n          0.267,\n          0.253,\n          0.251\n        ],\n        \"semantic_type\": \"\",\n        \"description\": \"\"\n      }\n    },\n    {\n      \"column\": \"zstat\",\n      \"properties\": {\n        \"dtype\": \"number\",\n        \"std\": 0.18198708745402795,\n        \"min\": 2.956,\n        \"max\": 3.384,\n        \"num_unique_values\": 5,\n        \"samples\": [\n          3.365,\n          3.215,\n          3.092\n        ],\n        \"semantic_type\": \"\",\n        \"description\": \"\"\n      }\n    },\n    {\n      \"column\": \"pvalue\",\n      \"properties\": {\n        \"dtype\": \"number\",\n        \"std\": 0.0008944271909999159,\n        \"min\": 0.001,\n        \"max\": 0.003,\n        \"num_unique_values\": 3,\n        \"samples\": [\n          0.001,\n          0.002,\n          0.003\n        ],\n        \"semantic_type\": \"\",\n        \"description\": \"\"\n      }\n    },\n    {\n      \"column\": \"ci_lower\",\n      \"properties\": {\n        \"dtype\": \"number\",\n        \"std\": 0.03566931454345597,\n        \"min\": 0.272,\n        \"max\": 0.357,\n        \"num_unique_values\": 5,\n        \"samples\": [\n          0.353,\n          0.318,\n          0.302\n        ],\n        \"semantic_type\": \"\",\n        \"description\": \"\"\n      }\n    },\n    {\n      \"column\": \"ci_upper\",\n      \"properties\": {\n        \"dtype\": \"number\",\n        \"std\": 0.01490972836774706,\n        \"min\": 1.311,\n        \"max\": 1.35,\n        \"num_unique_values\": 5,\n        \"samples\": [\n          1.339,\n          1.311,\n          1.35\n        ],\n        \"semantic_type\": \"\",\n        \"description\": \"\"\n      }\n    }\n  ]\n}"
            }
          },
          "metadata": {},
          "execution_count": 12
        }
      ]
    },
    {
      "cell_type": "code",
      "source": [
        "# Calculate mean treatment effect estimates for X_test\n",
        "print(res.summary_frame()['point_estimate'].mean())\n",
        "print(np.mean(treatment_effects))"
      ],
      "metadata": {
        "id": "6HP_OFyFfdQB",
        "outputId": "52356ddc-7ae1-4bef-da27-130e25d906a9",
        "colab": {
          "base_uri": "https://localhost:8080/"
        }
      },
      "execution_count": 13,
      "outputs": [
        {
          "output_type": "stream",
          "name": "stdout",
          "text": [
            "3.20564\n",
            "3.205649115992041\n"
          ]
        }
      ]
    },
    {
      "cell_type": "code",
      "source": [
        "# mean_point is the mean treatment effect estimate\n",
        "res.population_summary()"
      ],
      "metadata": {
        "id": "Lq5vaEfFfWQb",
        "outputId": "64764945-082d-48bc-feb6-ca8a520dbc39",
        "colab": {
          "base_uri": "https://localhost:8080/",
          "height": 255
        }
      },
      "execution_count": 14,
      "outputs": [
        {
          "output_type": "execute_result",
          "data": {
            "text/plain": [
              "<econml.inference._inference.PopulationSummaryResults at 0x7e83d9345e20>"
            ],
            "text/html": [
              "<table class=\"simpletable\">\n",
              "<caption>Uncertainty of Mean Point Estimate</caption>\n",
              "<tr>\n",
              "  <th>mean_point</th> <th>stderr_mean</th>  <th>zstat</th> <th>pvalue</th> <th>ci_mean_lower</th> <th>ci_mean_upper</th>\n",
              "</tr>\n",
              "<tr>\n",
              "     <td>3.206</td>      <td>0.255</td>    <td>12.555</td>   <td>0.0</td>      <td>2.705</td>         <td>3.706</td>    \n",
              "</tr>\n",
              "</table>\n",
              "<table class=\"simpletable\">\n",
              "<caption>Distribution of Point Estimate</caption>\n",
              "<tr>\n",
              "  <th>std_point</th> <th>pct_point_lower</th> <th>pct_point_upper</th>\n",
              "</tr>\n",
              "<tr>\n",
              "    <td>1.835</td>        <td>0.82</td>             <td>6.8</td>      \n",
              "</tr>\n",
              "</table>\n",
              "<table class=\"simpletable\">\n",
              "<caption>Total Variance of Point Estimate</caption>\n",
              "<tr>\n",
              "  <th>stderr_point</th> <th>ci_point_lower</th> <th>ci_point_upper</th>\n",
              "</tr>\n",
              "<tr>\n",
              "      <td>1.853</td>         <td>0.688</td>          <td>6.919</td>    \n",
              "</tr>\n",
              "</table><br/><br/>Note: The stderr_mean is a conservative upper bound."
            ]
          },
          "metadata": {},
          "execution_count": 14
        }
      ]
    },
    {
      "cell_type": "code",
      "source": [
        "# Plot the estimated treatment heterogeneity with respect to X[:,0]\n",
        "Xi = 0\n",
        "plt.subplot()\n",
        "plt.title(\"CausalForest\")\n",
        "plt.plot(X_test[:, Xi], treatment_effects, label='mean')\n",
        "expected_te = np.exp(2*X_test[:,0])\n",
        "plt.plot(X_test[:, Xi], expected_te, 'b--', label='True effect')\n",
        "plt.fill_between(X_test[:, Xi], te_lower, te_upper, label=\"95% BLB CI\", alpha=0.3)\n",
        "sns.rugplot(X[:, Xi]) # add rugplot for x1\n",
        "plt.ylabel(\"Treatment Effect\")\n",
        "plt.xlabel(f\"x{Xi}\")\n",
        "plt.xlim([X_test[:, Xi].min(),X_test[:, Xi].max()])\n",
        "plt.legend()\n",
        "plt.show()"
      ],
      "metadata": {
        "id": "jmPDRS2NSEOM",
        "outputId": "378dd653-1d60-4846-c544-731fff0dec25",
        "colab": {
          "base_uri": "https://localhost:8080/",
          "height": 472
        }
      },
      "execution_count": 15,
      "outputs": [
        {
          "output_type": "display_data",
          "data": {
            "text/plain": [
              "<Figure size 640x480 with 1 Axes>"
            ],
            "image/png": "[encoded data removed]"
          },
          "metadata": {}
        }
      ]
    },
    {
      "cell_type": "code",
      "source": [
        "print('Feature Importance for treatment heterogeneity')\n",
        "pd.DataFrame(estSyn.feature_importances_,index=[f'x{i}' for i in range(0,n_x)],\n",
        "             columns=['feature_importances']\n",
        "             ).sort_values('feature_importances',ascending=False)"
      ],
      "metadata": {
        "id": "9NuC5qUoSMEi",
        "outputId": "8f43fecd-7dae-485a-fe7a-6392911150e2",
        "colab": {
          "base_uri": "https://localhost:8080/",
          "height": 161
        }
      },
      "execution_count": 16,
      "outputs": [
        {
          "output_type": "stream",
          "name": "stdout",
          "text": [
            "Feature Importance for treatment heterogeneity\n"
          ]
        },
        {
          "output_type": "execute_result",
          "data": {
            "text/plain": [
              "    feature_importances\n",
              "x0             0.988045\n",
              "x1             0.006058\n",
              "x2             0.005897"
            ],
            "text/html": [
              "\n",
              "  <div id=\"df-6ba23149-51ea-484c-8824-b18c7a88cf86\" class=\"colab-df-container\">\n",
              "    <div>\n",
              "<style scoped>\n",
              "    .dataframe tbody tr th:only-of-type {\n",
              "        vertical-align: middle;\n",
              "    }\n",
              "\n",
              "    .dataframe tbody tr th {\n",
              "        vertical-align: top;\n",
              "    }\n",
              "\n",
              "    .dataframe thead th {\n",
              "        text-align: right;\n",
              "    }\n",
              "</style>\n",
              "<table border=\"1\" class=\"dataframe\">\n",
              "  <thead>\n",
              "    <tr style=\"text-align: right;\">\n",
              "      <th></th>\n",
              "      <th>feature_importances</th>\n",
              "    </tr>\n",
              "  </thead>\n",
              "  <tbody>\n",
              "    <tr>\n",
              "      <th>x0</th>\n",
              "      <td>0.988045</td>\n",
              "    </tr>\n",
              "    <tr>\n",
              "      <th>x1</th>\n",
              "      <td>0.006058</td>\n",
              "    </tr>\n",
              "    <tr>\n",
              "      <th>x2</th>\n",
              "      <td>0.005897</td>\n",
              "    </tr>\n",
              "  </tbody>\n",
              "</table>\n",
              "</div>\n",
              "    <div class=\"colab-df-buttons\">\n",
              "\n",
              "  <div class=\"colab-df-container\">\n",
              "    <button class=\"colab-df-convert\" onclick=\"convertToInteractive('df-6ba23149-51ea-484c-8824-b18c7a88cf86')\"\n",
              "            title=\"Convert this dataframe to an interactive table.\"\n",
              "            style=\"display:none;\">\n",
              "\n",
              "  <svg xmlns=\"http://www.w3.org/2000/svg\" height=\"24px\" viewBox=\"0 -960 960 960\">\n",
              "    <path d=\"M120-120v-720h720v720H120Zm60-500h600v-160H180v160Zm220 220h160v-160H400v160Zm0 220h160v-160H400v160ZM180-400h160v-160H180v160Zm440 0h160v-160H620v160ZM180-180h160v-160H180v160Zm440 0h160v-160H620v160Z\"/>\n",
              "  </svg>\n",
              "    </button>\n",
              "\n",
              "  <style>\n",
              "    .colab-df-container {\n",
              "      display:flex;\n",
              "      gap: 12px;\n",
              "    }\n",
              "\n",
              "    .colab-df-convert {\n",
              "      background-color: #E8F0FE;\n",
              "      border: none;\n",
              "      border-radius: 50%;\n",
              "      cursor: pointer;\n",
              "      display: none;\n",
              "      fill: #1967D2;\n",
              "      height: 32px;\n",
              "      padding: 0 0 0 0;\n",
              "      width: 32px;\n",
              "    }\n",
              "\n",
              "    .colab-df-convert:hover {\n",
              "      background-color: #E2EBFA;\n",
              "      box-shadow: 0px 1px 2px rgba(60, 64, 67, 0.3), 0px 1px 3px 1px rgba(60, 64, 67, 0.15);\n",
              "      fill: #174EA6;\n",
              "    }\n",
              "\n",
              "    .colab-df-buttons div {\n",
              "      margin-bottom: 4px;\n",
              "    }\n",
              "\n",
              "    [theme=dark] .colab-df-convert {\n",
              "      background-color: #3B4455;\n",
              "      fill: #D2E3FC;\n",
              "    }\n",
              "\n",
              "    [theme=dark] .colab-df-convert:hover {\n",
              "      background-color: #434B5C;\n",
              "      box-shadow: 0px 1px 3px 1px rgba(0, 0, 0, 0.15);\n",
              "      filter: drop-shadow(0px 1px 2px rgba(0, 0, 0, 0.3));\n",
              "      fill: #FFFFFF;\n",
              "    }\n",
              "  </style>\n",
              "\n",
              "    <script>\n",
              "      const buttonEl =\n",
              "        document.querySelector('#df-6ba23149-51ea-484c-8824-b18c7a88cf86 button.colab-df-convert');\n",
              "      buttonEl.style.display =\n",
              "        google.colab.kernel.accessAllowed ? 'block' : 'none';\n",
              "\n",
              "      async function convertToInteractive(key) {\n",
              "        const element = document.querySelector('#df-6ba23149-51ea-484c-8824-b18c7a88cf86');\n",
              "        const dataTable =\n",
              "          await google.colab.kernel.invokeFunction('convertToInteractive',\n",
              "                                                    [key], {});\n",
              "        if (!dataTable) return;\n",
              "\n",
              "        const docLinkHtml = 'Like what you see? Visit the ' +\n",
              "          '<a target=\"_blank\" href=https://colab.research.google.com/notebooks/data_table.ipynb>data table notebook</a>'\n",
              "          + ' to learn more about interactive tables.';\n",
              "        element.innerHTML = '';\n",
              "        dataTable['output_type'] = 'display_data';\n",
              "        await google.colab.output.renderOutput(dataTable, element);\n",
              "        const docLink = document.createElement('div');\n",
              "        docLink.innerHTML = docLinkHtml;\n",
              "        element.appendChild(docLink);\n",
              "      }\n",
              "    </script>\n",
              "  </div>\n",
              "\n",
              "\n",
              "    <div id=\"df-a62a55d4-c394-4c6c-82a7-06cde7f7f265\">\n",
              "      <button class=\"colab-df-quickchart\" onclick=\"quickchart('df-a62a55d4-c394-4c6c-82a7-06cde7f7f265')\"\n",
              "                title=\"Suggest charts\"\n",
              "                style=\"display:none;\">\n",
              "\n",
              "<svg xmlns=\"http://www.w3.org/2000/svg\" height=\"24px\"viewBox=\"0 0 24 24\"\n",
              "     width=\"24px\">\n",
              "    <g>\n",
              "        <path d=\"M19 3H5c-1.1 0-2 .9-2 2v14c0 1.1.9 2 2 2h14c1.1 0 2-.9 2-2V5c0-1.1-.9-2-2-2zM9 17H7v-7h2v7zm4 0h-2V7h2v10zm4 0h-2v-4h2v4z\"/>\n",
              "    </g>\n",
              "</svg>\n",
              "      </button>\n",
              "\n",
              "<style>\n",
              "  .colab-df-quickchart {\n",
              "      --bg-color: #E8F0FE;\n",
              "      --fill-color: #1967D2;\n",
              "      --hover-bg-color: #E2EBFA;\n",
              "      --hover-fill-color: #174EA6;\n",
              "      --disabled-fill-color: #AAA;\n",
              "      --disabled-bg-color: #DDD;\n",
              "  }\n",
              "\n",
              "  [theme=dark] .colab-df-quickchart {\n",
              "      --bg-color: #3B4455;\n",
              "      --fill-color: #D2E3FC;\n",
              "      --hover-bg-color: #434B5C;\n",
              "      --hover-fill-color: #FFFFFF;\n",
              "      --disabled-bg-color: #3B4455;\n",
              "      --disabled-fill-color: #666;\n",
              "  }\n",
              "\n",
              "  .colab-df-quickchart {\n",
              "    background-color: var(--bg-color);\n",
              "    border: none;\n",
              "    border-radius: 50%;\n",
              "    cursor: pointer;\n",
              "    display: none;\n",
              "    fill: var(--fill-color);\n",
              "    height: 32px;\n",
              "    padding: 0;\n",
              "    width: 32px;\n",
              "  }\n",
              "\n",
              "  .colab-df-quickchart:hover {\n",
              "    background-color: var(--hover-bg-color);\n",
              "    box-shadow: 0 1px 2px rgba(60, 64, 67, 0.3), 0 1px 3px 1px rgba(60, 64, 67, 0.15);\n",
              "    fill: var(--button-hover-fill-color);\n",
              "  }\n",
              "\n",
              "  .colab-df-quickchart-complete:disabled,\n",
              "  .colab-df-quickchart-complete:disabled:hover {\n",
              "    background-color: var(--disabled-bg-color);\n",
              "    fill: var(--disabled-fill-color);\n",
              "    box-shadow: none;\n",
              "  }\n",
              "\n",
              "  .colab-df-spinner {\n",
              "    border: 2px solid var(--fill-color);\n",
              "    border-color: transparent;\n",
              "    border-bottom-color: var(--fill-color);\n",
              "    animation:\n",
              "      spin 1s steps(1) infinite;\n",
              "  }\n",
              "\n",
              "  @keyframes spin {\n",
              "    0% {\n",
              "      border-color: transparent;\n",
              "      border-bottom-color: var(--fill-color);\n",
              "      border-left-color: var(--fill-color);\n",
              "    }\n",
              "    20% {\n",
              "      border-color: transparent;\n",
              "      border-left-color: var(--fill-color);\n",
              "      border-top-color: var(--fill-color);\n",
              "    }\n",
              "    30% {\n",
              "      border-color: transparent;\n",
              "      border-left-color: var(--fill-color);\n",
              "      border-top-color: var(--fill-color);\n",
              "      border-right-color: var(--fill-color);\n",
              "    }\n",
              "    40% {\n",
              "      border-color: transparent;\n",
              "      border-right-color: var(--fill-color);\n",
              "      border-top-color: var(--fill-color);\n",
              "    }\n",
              "    60% {\n",
              "      border-color: transparent;\n",
              "      border-right-color: var(--fill-color);\n",
              "    }\n",
              "    80% {\n",
              "      border-color: transparent;\n",
              "      border-right-color: var(--fill-color);\n",
              "      border-bottom-color: var(--fill-color);\n",
              "    }\n",
              "    90% {\n",
              "      border-color: transparent;\n",
              "      border-bottom-color: var(--fill-color);\n",
              "    }\n",
              "  }\n",
              "</style>\n",
              "\n",
              "      <script>\n",
              "        async function quickchart(key) {\n",
              "          const quickchartButtonEl =\n",
              "            document.querySelector('#' + key + ' button');\n",
              "          quickchartButtonEl.disabled = true;  // To prevent multiple clicks.\n",
              "          quickchartButtonEl.classList.add('colab-df-spinner');\n",
              "          try {\n",
              "            const charts = await google.colab.kernel.invokeFunction(\n",
              "                'suggestCharts', [key], {});\n",
              "          } catch (error) {\n",
              "            console.error('Error during call to suggestCharts:', error);\n",
              "          }\n",
              "          quickchartButtonEl.classList.remove('colab-df-spinner');\n",
              "          quickchartButtonEl.classList.add('colab-df-quickchart-complete');\n",
              "        }\n",
              "        (() => {\n",
              "          let quickchartButtonEl =\n",
              "            document.querySelector('#df-a62a55d4-c394-4c6c-82a7-06cde7f7f265 button');\n",
              "          quickchartButtonEl.style.display =\n",
              "            google.colab.kernel.accessAllowed ? 'block' : 'none';\n",
              "        })();\n",
              "      </script>\n",
              "    </div>\n",
              "\n",
              "    </div>\n",
              "  </div>\n"
            ],
            "application/vnd.google.colaboratory.intrinsic+json": {
              "type": "dataframe",
              "summary": "{\n  \"name\": \"             )\",\n  \"rows\": 3,\n  \"fields\": [\n    {\n      \"column\": \"feature_importances\",\n      \"properties\": {\n        \"dtype\": \"number\",\n        \"std\": 0.5669968342914836,\n        \"min\": 0.005897290161274148,\n        \"max\": 0.9880448765878603,\n        \"num_unique_values\": 3,\n        \"samples\": [\n          0.9880448765878603,\n          0.00605783325086548,\n          0.005897290161274148\n        ],\n        \"semantic_type\": \"\",\n        \"description\": \"\"\n      }\n    }\n  ]\n}"
            }
          },
          "metadata": {},
          "execution_count": 16
        }
      ]
    },
    {
      "cell_type": "code",
      "source": [
        "# Get shap values\n",
        "shap_values = estSyn.shap_values(X)"
      ],
      "metadata": {
        "id": "9l3vnpI7SILT",
        "outputId": "5fbc6384-f16a-49d5-c646-4cf3d95c3fa4",
        "colab": {
          "base_uri": "https://localhost:8080/"
        }
      },
      "execution_count": 17,
      "outputs": [
        {
          "output_type": "stream",
          "name": "stderr",
          "text": [
            "100%|===================| 995/1000 [02:39<00:00]       "
          ]
        }
      ]
    },
    {
      "cell_type": "code",
      "source": [
        "shap.plots.beeswarm(shap_values['Y0']['T0'])"
      ],
      "metadata": {
        "id": "6Awlq9JTSJ_g",
        "outputId": "2c5620f4-1666-478d-ccd0-59de1543c96a",
        "colab": {
          "base_uri": "https://localhost:8080/",
          "height": 299
        }
      },
      "execution_count": 18,
      "outputs": [
        {
          "output_type": "display_data",
          "data": {
            "text/plain": [
              "<Figure size 800x270 with 2 Axes>"
            ],
            "image/png": "[encoded data removed]"
          },
          "metadata": {}
        }
      ]
    },
    {
      "cell_type": "markdown",
      "metadata": {
        "id": "JZm0tXJ8DLDM"
      },
      "source": [
        "# Lab 4a: Counterfactual prediction"
      ]
    },
    {
      "cell_type": "markdown",
      "metadata": {
        "id": "czQzN5tNDZua"
      },
      "source": [
        "The objective of the second part of today's lab is to determine the effects of protected areas on forest cover. To do this, we take the following strategy:\n",
        "\n",
        "1) We estimate a model predicting forest cover where we use all of the observations that are not in a protected area.\n",
        "\n",
        "2) We use this model to predict forest cover for observations with protected areas observations. This gives as a prediction about the expected forest cover given the characteristics of the cell (such as slope, elevation).\n",
        "\n",
        "3) Using the predictions from 2) we compare the predicted forest cover with the actual forest cover. The difference between the two is the estimated effect of forest protected areas.\n",
        "\n",
        "=> Most of the steps for the estimation should be familiar from previous labs."
      ]
    },
    {
      "cell_type": "code",
      "execution_count": 19,
      "metadata": {
        "id": "w9dV8MX8FRjV"
      },
      "outputs": [],
      "source": [
        "from sklearn.model_selection import train_test_split\n",
        "from sklearn.preprocessing import MinMaxScaler\n",
        "from sklearn.metrics import mean_squared_error, r2_score\n",
        "# import seaborn for visualization\n",
        "import seaborn as sns\n",
        "import os"
      ]
    },
    {
      "cell_type": "code",
      "execution_count": 20,
      "metadata": {
        "id": "urcpRQs9QFxO",
        "outputId": "84641fcd-e12b-4137-ef40-2876845b3274",
        "colab": {
          "base_uri": "https://localhost:8080/"
        }
      },
      "outputs": [
        {
          "output_type": "stream",
          "name": "stdout",
          "text": [
            "--2025-08-21 13:21:38--  https://ilr-ml.s3.eu-central-1.amazonaws.com/brazil_all_data_v2.gz\n",
            "Resolving ilr-ml.s3.eu-central-1.amazonaws.com (ilr-ml.s3.eu-central-1.amazonaws.com)... 52.219.140.189, 52.219.171.226, 3.5.135.134, ...\n",
            "Connecting to ilr-ml.s3.eu-central-1.amazonaws.com (ilr-ml.s3.eu-central-1.amazonaws.com)|52.219.140.189|:443... connected.\n",
            "HTTP request sent, awaiting response... 200 OK\n",
            "Length: 283350352 (270M) [application/x-gzip]\n",
            "Saving to: ‘brazil_all_data_v2.gz’\n",
            "\n",
            "brazil_all_data_v2. 100%[===================>] 270.22M  25.3MB/s    in 12s     \n",
            "\n",
            "2025-08-21 13:21:52 (21.8 MB/s) - ‘brazil_all_data_v2.gz’ saved [283350352/283350352]\n",
            "\n"
          ]
        }
      ],
      "source": [
        "# run this cell only once if you don't have wget installed\n",
        "# its assumed you are using windows and have python installed\n",
        "# only needed if you are running the notebook locally\n",
        "# %pip install wget\n",
        "#if not os.path.isfile('brazil_all_data_v2.gz'):\n",
        "#    !python -m wget  https://ilr-ml.s3.eu-central-1.amazonaws.com/brazil_all_data_v2.gz\n",
        "# Download data only once and make sure it is in the same folder as the notebook\n",
        "\n",
        "# check if brazil_all_data_v2.gz is available in the current folder and if not, download it\n",
        "\n",
        "if not os.path.isfile('brazil_all_data_v2.gz'):\n",
        "    !wget  https://ilr-ml.s3.eu-central-1.amazonaws.com/brazil_all_data_v2.gz\n"
      ]
    },
    {
      "cell_type": "code",
      "execution_count": 21,
      "metadata": {
        "id": "kXsLE6cBwJlT"
      },
      "outputs": [],
      "source": [
        "# load data into dataframe\n",
        "df = pd.read_parquet('brazil_all_data_v2.gz')"
      ]
    },
    {
      "cell_type": "code",
      "execution_count": 22,
      "metadata": {
        "id": "yxNVCmreJT9M"
      },
      "outputs": [],
      "source": [
        "# Define target (dependent) variable (% forest cover for 2018)\n",
        "strY = 'perc_treecover'\n",
        "\n",
        "# Define a list of features names (explantory variables)\n",
        "lstX = [\n",
        "  # 'wdpa_2017', => Exclude protected areas\n",
        "  'population_2015',\n",
        "  'chirps_2017',\n",
        "  'maize',\n",
        "  'soy',\n",
        "  'sugarcane',\n",
        "  'perm_water',\n",
        "  'travel_min',\n",
        "  'cropland',\n",
        "  'mean_elev',\n",
        "  'sd_elev',\n",
        "  'near_road',\n",
        "  # 'wdpa_2017_lag_1st_order',\n",
        "  'chirps_2017_lag_1st_order',\n",
        "  'population_2015_lag_1st_order',\n",
        "  'maize_lag_1st_order',\n",
        "  'soy_lag_1st_order',\n",
        "  'sugarcane_lag_1st_order',\n",
        "  'perc_treecover_lag_1st_order',\n",
        "  'perm_water_lag_1st_order',\n",
        "  'travel_min_lag_1st_order',\n",
        "  'cropland_lag_1st_order',\n",
        "  'mean_elev_lag_1st_order',\n",
        "  'sd_elev_lag_1st_order',\n",
        "  'near_road_lag_1st_order',\n",
        " ]"
      ]
    },
    {
      "cell_type": "code",
      "execution_count": 23,
      "metadata": {
        "id": "koS5lAM3I9m7",
        "outputId": "e235828e-6d0b-4eab-e359-3d556ffd41d3",
        "colab": {
          "base_uri": "https://localhost:8080/"
        }
      },
      "outputs": [
        {
          "output_type": "stream",
          "name": "stdout",
          "text": [
            "Number of observations without protected area 202412\n",
            "Number of observations with protected area 47528\n"
          ]
        }
      ],
      "source": [
        "# Split that sample in those observations that ...\n",
        "#... are protected areas\n",
        "df_PA = df.loc[~(df['wdpa_2017']==0),:]\n",
        "\n",
        "#... are NOT protected areas\n",
        "df_NoPA = df.loc[df['wdpa_2017']==0,:]\n",
        "\n",
        "print('Number of observations without protected area', df_NoPA.shape[0])\n",
        "print('Number of observations with protected area', df_PA.shape[0])"
      ]
    },
    {
      "cell_type": "code",
      "execution_count": 24,
      "metadata": {
        "id": "JgJR5As0FDgu"
      },
      "outputs": [],
      "source": [
        "# Select the target variable\n",
        "# ... for the observations without protected areas\n",
        "Y_all_NoPA = df_NoPA[strY]\n",
        "# ... for the observations with protected areas\n",
        "Y_PA = df_PA[strY]\n",
        "\n",
        "# Get the features\n",
        "# ... for the observations without protected areas\n",
        "X_all_NoPA =  df_NoPA.loc[:,lstX]\n",
        "# ... for the observations wit protected areas\n",
        "X_PA_raw =  df_PA.loc[:,lstX]"
      ]
    },
    {
      "cell_type": "markdown",
      "metadata": {
        "id": "9kH38Z7Ufk-I"
      },
      "source": [
        "Choose a ML model and features to predict deforestation"
      ]
    },
    {
      "cell_type": "code",
      "execution_count": 25,
      "metadata": {
        "id": "ePR5RYQ9ftsL"
      },
      "outputs": [],
      "source": [
        "# Split the data into train and test using only the the observations\n",
        "# without protected areas\n",
        "X_train_raw, X_test_raw, Y_train, Y_test = train_test_split(X_all_NoPA, Y_all_NoPA, test_size = 0.2)"
      ]
    },
    {
      "cell_type": "code",
      "execution_count": 26,
      "metadata": {
        "id": "BcujfVW9E_kb"
      },
      "outputs": [],
      "source": [
        "\n",
        "# Scale data to 0-1 range using sklearn MinMaxScalar object\n",
        "# (see: https://scikit-learn.org/stable/modules/generated/sklearn.preprocessing.MinMaxScaler.html)\n",
        "scaler = MinMaxScaler()\n",
        "# Use only the train data to fit the MinMaxScalar\n",
        "scaler.fit(X_train_raw)\n",
        "\n",
        "# Apply the MinMax transformation to the train and test data\n",
        "X_train = scaler.transform(X_train_raw)\n",
        "X_test = scaler.transform(X_test_raw)\n"
      ]
    },
    {
      "cell_type": "code",
      "execution_count": 27,
      "metadata": {
        "id": "a-IGittsEV46"
      },
      "outputs": [],
      "source": [
        "# Define a function to print model stats\n",
        "def printModStats(mod,X_train, Y_train,X_test, Y_test, showPlot=True):\n",
        "  # Inspect the model performancefor those observations that are\n",
        "  # not protected areas\n",
        "  print('Score in train', mod.score(X_train, Y_train))\n",
        "  print('Score in test', mod.score(X_test, Y_test))\n",
        "\n",
        "  # Get predicted values for the test set\n",
        "  Y_test_had_Tree = mod.predict(X_test)\n",
        "\n",
        "  # Calculate MSE in test set\n",
        "  mse_ols_sklearn  = mean_squared_error(Y_test,Y_test_had_Tree)\n",
        "  print('\\nMean squared error: ',mse_ols_sklearn)\n",
        "  # The coefficient of determination: 1 is perfect prediction\n",
        "  R2_ols_sklearn = r2_score(Y_test,Y_test_had_Tree)\n",
        "  print('Coefficient of determination: ',R2_ols_sklearn)\n",
        "\n",
        "  if showPlot:\n",
        "    # plot Y vs Y-hat\n",
        "    h = sns.jointplot(x=Y_test_had_Tree, y=Y_test, kind=\"hex\")\n",
        "    h.set_axis_labels('Y predicted', 'Y true');\n",
        "\n"
      ]
    },
    {
      "cell_type": "code",
      "execution_count": 28,
      "metadata": {
        "id": "8HKK5AhGf6eI",
        "outputId": "5e7e6502-601a-4cd9-e1fb-9fae8a5e2f6a",
        "colab": {
          "base_uri": "https://localhost:8080/",
          "height": 254
        }
      },
      "outputs": [
        {
          "output_type": "execute_result",
          "data": {
            "text/plain": [
              "XGBRegressor(base_score=None, booster=None, callbacks=None,\n",
              "             colsample_bylevel=None, colsample_bynode=None,\n",
              "             colsample_bytree=None, device=None, early_stopping_rounds=None,\n",
              "             enable_categorical=False, eval_metric=None, feature_types=None,\n",
              "             feature_weights=None, gamma=None, grow_policy=None,\n",
              "             importance_type=None, interaction_constraints=None,\n",
              "             learning_rate=None, max_bin=None, max_cat_threshold=None,\n",
              "             max_cat_to_onehot=None, max_delta_step=None, max_depth=None,\n",
              "             max_leaves=None, min_child_weight=None, missing=nan,\n",
              "             monotone_constraints=None, multi_strategy=None, n_estimators=None,\n",
              "             n_jobs=None, num_parallel_tree=None, ...)"
            ],
            "text/html": [
              "<style>#sk-container-id-1 {\n",
              "  /* Definition of color scheme common for light and dark mode */\n",
              "  --sklearn-color-text: #000;\n",
              "  --sklearn-color-text-muted: #666;\n",
              "  --sklearn-color-line: gray;\n",
              "  /* Definition of color scheme for unfitted estimators */\n",
              "  --sklearn-color-unfitted-level-0: #fff5e6;\n",
              "  --sklearn-color-unfitted-level-1: #f6e4d2;\n",
              "  --sklearn-color-unfitted-level-2: #ffe0b3;\n",
              "  --sklearn-color-unfitted-level-3: chocolate;\n",
              "  /* Definition of color scheme for fitted estimators */\n",
              "  --sklearn-color-fitted-level-0: #f0f8ff;\n",
              "  --sklearn-color-fitted-level-1: #d4ebff;\n",
              "  --sklearn-color-fitted-level-2: #b3dbfd;\n",
              "  --sklearn-color-fitted-level-3: cornflowerblue;\n",
              "\n",
              "  /* Specific color for light theme */\n",
              "  --sklearn-color-text-on-default-background: var(--sg-text-color, var(--theme-code-foreground, var(--jp-content-font-color1, black)));\n",
              "  --sklearn-color-background: var(--sg-background-color, var(--theme-background, var(--jp-layout-color0, white)));\n",
              "  --sklearn-color-border-box: var(--sg-text-color, var(--theme-code-foreground, var(--jp-content-font-color1, black)));\n",
              "  --sklearn-color-icon: #696969;\n",
              "\n",
              "  @media (prefers-color-scheme: dark) {\n",
              "    /* Redefinition of color scheme for dark theme */\n",
              "    --sklearn-color-text-on-default-background: var(--sg-text-color, var(--theme-code-foreground, var(--jp-content-font-color1, white)));\n",
              "    --sklearn-color-background: var(--sg-background-color, var(--theme-background, var(--jp-layout-color0, #111)));\n",
              "    --sklearn-color-border-box: var(--sg-text-color, var(--theme-code-foreground, var(--jp-content-font-color1, white)));\n",
              "    --sklearn-color-icon: #878787;\n",
              "  }\n",
              "}\n",
              "\n",
              "#sk-container-id-1 {\n",
              "  color: var(--sklearn-color-text);\n",
              "}\n",
              "\n",
              "#sk-container-id-1 pre {\n",
              "  padding: 0;\n",
              "}\n",
              "\n",
              "#sk-container-id-1 input.sk-hidden--visually {\n",
              "  border: 0;\n",
              "  clip: rect(1px 1px 1px 1px);\n",
              "  clip: rect(1px, 1px, 1px, 1px);\n",
              "  height: 1px;\n",
              "  margin: -1px;\n",
              "  overflow: hidden;\n",
              "  padding: 0;\n",
              "  position: absolute;\n",
              "  width: 1px;\n",
              "}\n",
              "\n",
              "#sk-container-id-1 div.sk-dashed-wrapped {\n",
              "  border: 1px dashed var(--sklearn-color-line);\n",
              "  margin: 0 0.4em 0.5em 0.4em;\n",
              "  box-sizing: border-box;\n",
              "  padding-bottom: 0.4em;\n",
              "  background-color: var(--sklearn-color-background);\n",
              "}\n",
              "\n",
              "#sk-container-id-1 div.sk-container {\n",
              "  /* jupyter's `normalize.less` sets `[hidden] { display: none; }`\n",
              "     but bootstrap.min.css set `[hidden] { display: none !important; }`\n",
              "     so we also need the `!important` here to be able to override the\n",
              "     default hidden behavior on the sphinx rendered scikit-learn.org.\n",
              "     See: https://github.com/scikit-learn/scikit-learn/issues/21755 */\n",
              "  display: inline-block !important;\n",
              "  position: relative;\n",
              "}\n",
              "\n",
              "#sk-container-id-1 div.sk-text-repr-fallback {\n",
              "  display: none;\n",
              "}\n",
              "\n",
              "div.sk-parallel-item,\n",
              "div.sk-serial,\n",
              "div.sk-item {\n",
              "  /* draw centered vertical line to link estimators */\n",
              "  background-image: linear-gradient(var(--sklearn-color-text-on-default-background), var(--sklearn-color-text-on-default-background));\n",
              "  background-size: 2px 100%;\n",
              "  background-repeat: no-repeat;\n",
              "  background-position: center center;\n",
              "}\n",
              "\n",
              "/* Parallel-specific style estimator block */\n",
              "\n",
              "#sk-container-id-1 div.sk-parallel-item::after {\n",
              "  content: \"\";\n",
              "  width: 100%;\n",
              "  border-bottom: 2px solid var(--sklearn-color-text-on-default-background);\n",
              "  flex-grow: 1;\n",
              "}\n",
              "\n",
              "#sk-container-id-1 div.sk-parallel {\n",
              "  display: flex;\n",
              "  align-items: stretch;\n",
              "  justify-content: center;\n",
              "  background-color: var(--sklearn-color-background);\n",
              "  position: relative;\n",
              "}\n",
              "\n",
              "#sk-container-id-1 div.sk-parallel-item {\n",
              "  display: flex;\n",
              "  flex-direction: column;\n",
              "}\n",
              "\n",
              "#sk-container-id-1 div.sk-parallel-item:first-child::after {\n",
              "  align-self: flex-end;\n",
              "  width: 50%;\n",
              "}\n",
              "\n",
              "#sk-container-id-1 div.sk-parallel-item:last-child::after {\n",
              "  align-self: flex-start;\n",
              "  width: 50%;\n",
              "}\n",
              "\n",
              "#sk-container-id-1 div.sk-parallel-item:only-child::after {\n",
              "  width: 0;\n",
              "}\n",
              "\n",
              "/* Serial-specific style estimator block */\n",
              "\n",
              "#sk-container-id-1 div.sk-serial {\n",
              "  display: flex;\n",
              "  flex-direction: column;\n",
              "  align-items: center;\n",
              "  background-color: var(--sklearn-color-background);\n",
              "  padding-right: 1em;\n",
              "  padding-left: 1em;\n",
              "}\n",
              "\n",
              "\n",
              "/* Toggleable style: style used for estimator/Pipeline/ColumnTransformer box that is\n",
              "clickable and can be expanded/collapsed.\n",
              "- Pipeline and ColumnTransformer use this feature and define the default style\n",
              "- Estimators will overwrite some part of the style using the `sk-estimator` class\n",
              "*/\n",
              "\n",
              "/* Pipeline and ColumnTransformer style (default) */\n",
              "\n",
              "#sk-container-id-1 div.sk-toggleable {\n",
              "  /* Default theme specific background. It is overwritten whether we have a\n",
              "  specific estimator or a Pipeline/ColumnTransformer */\n",
              "  background-color: var(--sklearn-color-background);\n",
              "}\n",
              "\n",
              "/* Toggleable label */\n",
              "#sk-container-id-1 label.sk-toggleable__label {\n",
              "  cursor: pointer;\n",
              "  display: flex;\n",
              "  width: 100%;\n",
              "  margin-bottom: 0;\n",
              "  padding: 0.5em;\n",
              "  box-sizing: border-box;\n",
              "  text-align: center;\n",
              "  align-items: start;\n",
              "  justify-content: space-between;\n",
              "  gap: 0.5em;\n",
              "}\n",
              "\n",
              "#sk-container-id-1 label.sk-toggleable__label .caption {\n",
              "  font-size: 0.6rem;\n",
              "  font-weight: lighter;\n",
              "  color: var(--sklearn-color-text-muted);\n",
              "}\n",
              "\n",
              "#sk-container-id-1 label.sk-toggleable__label-arrow:before {\n",
              "  /* Arrow on the left of the label */\n",
              "  content: \"▸\";\n",
              "  float: left;\n",
              "  margin-right: 0.25em;\n",
              "  color: var(--sklearn-color-icon);\n",
              "}\n",
              "\n",
              "#sk-container-id-1 label.sk-toggleable__label-arrow:hover:before {\n",
              "  color: var(--sklearn-color-text);\n",
              "}\n",
              "\n",
              "/* Toggleable content - dropdown */\n",
              "\n",
              "#sk-container-id-1 div.sk-toggleable__content {\n",
              "  max-height: 0;\n",
              "  max-width: 0;\n",
              "  overflow: hidden;\n",
              "  text-align: left;\n",
              "  /* unfitted */\n",
              "  background-color: var(--sklearn-color-unfitted-level-0);\n",
              "}\n",
              "\n",
              "#sk-container-id-1 div.sk-toggleable__content.fitted {\n",
              "  /* fitted */\n",
              "  background-color: var(--sklearn-color-fitted-level-0);\n",
              "}\n",
              "\n",
              "#sk-container-id-1 div.sk-toggleable__content pre {\n",
              "  margin: 0.2em;\n",
              "  border-radius: 0.25em;\n",
              "  color: var(--sklearn-color-text);\n",
              "  /* unfitted */\n",
              "  background-color: var(--sklearn-color-unfitted-level-0);\n",
              "}\n",
              "\n",
              "#sk-container-id-1 div.sk-toggleable__content.fitted pre {\n",
              "  /* unfitted */\n",
              "  background-color: var(--sklearn-color-fitted-level-0);\n",
              "}\n",
              "\n",
              "#sk-container-id-1 input.sk-toggleable__control:checked~div.sk-toggleable__content {\n",
              "  /* Expand drop-down */\n",
              "  max-height: 200px;\n",
              "  max-width: 100%;\n",
              "  overflow: auto;\n",
              "}\n",
              "\n",
              "#sk-container-id-1 input.sk-toggleable__control:checked~label.sk-toggleable__label-arrow:before {\n",
              "  content: \"▾\";\n",
              "}\n",
              "\n",
              "/* Pipeline/ColumnTransformer-specific style */\n",
              "\n",
              "#sk-container-id-1 div.sk-label input.sk-toggleable__control:checked~label.sk-toggleable__label {\n",
              "  color: var(--sklearn-color-text);\n",
              "  background-color: var(--sklearn-color-unfitted-level-2);\n",
              "}\n",
              "\n",
              "#sk-container-id-1 div.sk-label.fitted input.sk-toggleable__control:checked~label.sk-toggleable__label {\n",
              "  background-color: var(--sklearn-color-fitted-level-2);\n",
              "}\n",
              "\n",
              "/* Estimator-specific style */\n",
              "\n",
              "/* Colorize estimator box */\n",
              "#sk-container-id-1 div.sk-estimator input.sk-toggleable__control:checked~label.sk-toggleable__label {\n",
              "  /* unfitted */\n",
              "  background-color: var(--sklearn-color-unfitted-level-2);\n",
              "}\n",
              "\n",
              "#sk-container-id-1 div.sk-estimator.fitted input.sk-toggleable__control:checked~label.sk-toggleable__label {\n",
              "  /* fitted */\n",
              "  background-color: var(--sklearn-color-fitted-level-2);\n",
              "}\n",
              "\n",
              "#sk-container-id-1 div.sk-label label.sk-toggleable__label,\n",
              "#sk-container-id-1 div.sk-label label {\n",
              "  /* The background is the default theme color */\n",
              "  color: var(--sklearn-color-text-on-default-background);\n",
              "}\n",
              "\n",
              "/* On hover, darken the color of the background */\n",
              "#sk-container-id-1 div.sk-label:hover label.sk-toggleable__label {\n",
              "  color: var(--sklearn-color-text);\n",
              "  background-color: var(--sklearn-color-unfitted-level-2);\n",
              "}\n",
              "\n",
              "/* Label box, darken color on hover, fitted */\n",
              "#sk-container-id-1 div.sk-label.fitted:hover label.sk-toggleable__label.fitted {\n",
              "  color: var(--sklearn-color-text);\n",
              "  background-color: var(--sklearn-color-fitted-level-2);\n",
              "}\n",
              "\n",
              "/* Estimator label */\n",
              "\n",
              "#sk-container-id-1 div.sk-label label {\n",
              "  font-family: monospace;\n",
              "  font-weight: bold;\n",
              "  display: inline-block;\n",
              "  line-height: 1.2em;\n",
              "}\n",
              "\n",
              "#sk-container-id-1 div.sk-label-container {\n",
              "  text-align: center;\n",
              "}\n",
              "\n",
              "/* Estimator-specific */\n",
              "#sk-container-id-1 div.sk-estimator {\n",
              "  font-family: monospace;\n",
              "  border: 1px dotted var(--sklearn-color-border-box);\n",
              "  border-radius: 0.25em;\n",
              "  box-sizing: border-box;\n",
              "  margin-bottom: 0.5em;\n",
              "  /* unfitted */\n",
              "  background-color: var(--sklearn-color-unfitted-level-0);\n",
              "}\n",
              "\n",
              "#sk-container-id-1 div.sk-estimator.fitted {\n",
              "  /* fitted */\n",
              "  background-color: var(--sklearn-color-fitted-level-0);\n",
              "}\n",
              "\n",
              "/* on hover */\n",
              "#sk-container-id-1 div.sk-estimator:hover {\n",
              "  /* unfitted */\n",
              "  background-color: var(--sklearn-color-unfitted-level-2);\n",
              "}\n",
              "\n",
              "#sk-container-id-1 div.sk-estimator.fitted:hover {\n",
              "  /* fitted */\n",
              "  background-color: var(--sklearn-color-fitted-level-2);\n",
              "}\n",
              "\n",
              "/* Specification for estimator info (e.g. \"i\" and \"?\") */\n",
              "\n",
              "/* Common style for \"i\" and \"?\" */\n",
              "\n",
              ".sk-estimator-doc-link,\n",
              "a:link.sk-estimator-doc-link,\n",
              "a:visited.sk-estimator-doc-link {\n",
              "  float: right;\n",
              "  font-size: smaller;\n",
              "  line-height: 1em;\n",
              "  font-family: monospace;\n",
              "  background-color: var(--sklearn-color-background);\n",
              "  border-radius: 1em;\n",
              "  height: 1em;\n",
              "  width: 1em;\n",
              "  text-decoration: none !important;\n",
              "  margin-left: 0.5em;\n",
              "  text-align: center;\n",
              "  /* unfitted */\n",
              "  border: var(--sklearn-color-unfitted-level-1) 1pt solid;\n",
              "  color: var(--sklearn-color-unfitted-level-1);\n",
              "}\n",
              "\n",
              ".sk-estimator-doc-link.fitted,\n",
              "a:link.sk-estimator-doc-link.fitted,\n",
              "a:visited.sk-estimator-doc-link.fitted {\n",
              "  /* fitted */\n",
              "  border: var(--sklearn-color-fitted-level-1) 1pt solid;\n",
              "  color: var(--sklearn-color-fitted-level-1);\n",
              "}\n",
              "\n",
              "/* On hover */\n",
              "div.sk-estimator:hover .sk-estimator-doc-link:hover,\n",
              ".sk-estimator-doc-link:hover,\n",
              "div.sk-label-container:hover .sk-estimator-doc-link:hover,\n",
              ".sk-estimator-doc-link:hover {\n",
              "  /* unfitted */\n",
              "  background-color: var(--sklearn-color-unfitted-level-3);\n",
              "  color: var(--sklearn-color-background);\n",
              "  text-decoration: none;\n",
              "}\n",
              "\n",
              "div.sk-estimator.fitted:hover .sk-estimator-doc-link.fitted:hover,\n",
              ".sk-estimator-doc-link.fitted:hover,\n",
              "div.sk-label-container:hover .sk-estimator-doc-link.fitted:hover,\n",
              ".sk-estimator-doc-link.fitted:hover {\n",
              "  /* fitted */\n",
              "  background-color: var(--sklearn-color-fitted-level-3);\n",
              "  color: var(--sklearn-color-background);\n",
              "  text-decoration: none;\n",
              "}\n",
              "\n",
              "/* Span, style for the box shown on hovering the info icon */\n",
              ".sk-estimator-doc-link span {\n",
              "  display: none;\n",
              "  z-index: 9999;\n",
              "  position: relative;\n",
              "  font-weight: normal;\n",
              "  right: .2ex;\n",
              "  padding: .5ex;\n",
              "  margin: .5ex;\n",
              "  width: min-content;\n",
              "  min-width: 20ex;\n",
              "  max-width: 50ex;\n",
              "  color: var(--sklearn-color-text);\n",
              "  box-shadow: 2pt 2pt 4pt #999;\n",
              "  /* unfitted */\n",
              "  background: var(--sklearn-color-unfitted-level-0);\n",
              "  border: .5pt solid var(--sklearn-color-unfitted-level-3);\n",
              "}\n",
              "\n",
              ".sk-estimator-doc-link.fitted span {\n",
              "  /* fitted */\n",
              "  background: var(--sklearn-color-fitted-level-0);\n",
              "  border: var(--sklearn-color-fitted-level-3);\n",
              "}\n",
              "\n",
              ".sk-estimator-doc-link:hover span {\n",
              "  display: block;\n",
              "}\n",
              "\n",
              "/* \"?\"-specific style due to the `<a>` HTML tag */\n",
              "\n",
              "#sk-container-id-1 a.estimator_doc_link {\n",
              "  float: right;\n",
              "  font-size: 1rem;\n",
              "  line-height: 1em;\n",
              "  font-family: monospace;\n",
              "  background-color: var(--sklearn-color-background);\n",
              "  border-radius: 1rem;\n",
              "  height: 1rem;\n",
              "  width: 1rem;\n",
              "  text-decoration: none;\n",
              "  /* unfitted */\n",
              "  color: var(--sklearn-color-unfitted-level-1);\n",
              "  border: var(--sklearn-color-unfitted-level-1) 1pt solid;\n",
              "}\n",
              "\n",
              "#sk-container-id-1 a.estimator_doc_link.fitted {\n",
              "  /* fitted */\n",
              "  border: var(--sklearn-color-fitted-level-1) 1pt solid;\n",
              "  color: var(--sklearn-color-fitted-level-1);\n",
              "}\n",
              "\n",
              "/* On hover */\n",
              "#sk-container-id-1 a.estimator_doc_link:hover {\n",
              "  /* unfitted */\n",
              "  background-color: var(--sklearn-color-unfitted-level-3);\n",
              "  color: var(--sklearn-color-background);\n",
              "  text-decoration: none;\n",
              "}\n",
              "\n",
              "#sk-container-id-1 a.estimator_doc_link.fitted:hover {\n",
              "  /* fitted */\n",
              "  background-color: var(--sklearn-color-fitted-level-3);\n",
              "}\n",
              "</style><div id=\"sk-container-id-1\" class=\"sk-top-container\"><div class=\"sk-text-repr-fallback\"><pre>XGBRegressor(base_score=None, booster=None, callbacks=None,\n",
              "             colsample_bylevel=None, colsample_bynode=None,\n",
              "             colsample_bytree=None, device=None, early_stopping_rounds=None,\n",
              "             enable_categorical=False, eval_metric=None, feature_types=None,\n",
              "             feature_weights=None, gamma=None, grow_policy=None,\n",
              "             importance_type=None, interaction_constraints=None,\n",
              "             learning_rate=None, max_bin=None, max_cat_threshold=None,\n",
              "             max_cat_to_onehot=None, max_delta_step=None, max_depth=None,\n",
              "             max_leaves=None, min_child_weight=None, missing=nan,\n",
              "             monotone_constraints=None, multi_strategy=None, n_estimators=None,\n",
              "             n_jobs=None, num_parallel_tree=None, ...)</pre><b>In a Jupyter environment, please rerun this cell to show the HTML representation or trust the notebook. <br />On GitHub, the HTML representation is unable to render, please try loading this page with nbviewer.org.</b></div><div class=\"sk-container\" hidden><div class=\"sk-item\"><div class=\"sk-estimator fitted sk-toggleable\"><input class=\"sk-toggleable__control sk-hidden--visually\" id=\"sk-estimator-id-1\" type=\"checkbox\" checked><label for=\"sk-estimator-id-1\" class=\"sk-toggleable__label fitted sk-toggleable__label-arrow\"><div><div>XGBRegressor</div></div><div><a class=\"sk-estimator-doc-link fitted\" rel=\"noreferrer\" target=\"_blank\" href=\"https://xgboost.readthedocs.io/en/release_3.0.0/python/python_api.html#xgboost.XGBRegressor\">?<span>Documentation for XGBRegressor</span></a><span class=\"sk-estimator-doc-link fitted\">i<span>Fitted</span></span></div></label><div class=\"sk-toggleable__content fitted\"><pre>XGBRegressor(base_score=None, booster=None, callbacks=None,\n",
              "             colsample_bylevel=None, colsample_bynode=None,\n",
              "             colsample_bytree=None, device=None, early_stopping_rounds=None,\n",
              "             enable_categorical=False, eval_metric=None, feature_types=None,\n",
              "             feature_weights=None, gamma=None, grow_policy=None,\n",
              "             importance_type=None, interaction_constraints=None,\n",
              "             learning_rate=None, max_bin=None, max_cat_threshold=None,\n",
              "             max_cat_to_onehot=None, max_delta_step=None, max_depth=None,\n",
              "             max_leaves=None, min_child_weight=None, missing=nan,\n",
              "             monotone_constraints=None, multi_strategy=None, n_estimators=None,\n",
              "             n_jobs=None, num_parallel_tree=None, ...)</pre></div> </div></div></div></div>"
            ]
          },
          "metadata": {},
          "execution_count": 28
        }
      ],
      "source": [
        "# Run XGBoost. In contrast to day 2 we now use XGBRegressor as our task is\n",
        "# a regression task and not a classification task\n",
        "import xgboost as xgb\n",
        "model_xgb = xgb.XGBRegressor(objective=\"reg:squarederror\", random_state=42)\n",
        "model_xgb.fit(X_train, Y_train)\n",
        "  # train data is obs for non-PA area\n"
      ]
    },
    {
      "cell_type": "code",
      "execution_count": 29,
      "metadata": {
        "id": "dqIcCCsKEmX_",
        "outputId": "35678808-186a-4b23-eb4d-41a7d5e959db",
        "colab": {
          "base_uri": "https://localhost:8080/",
          "height": 713
        }
      },
      "outputs": [
        {
          "output_type": "stream",
          "name": "stdout",
          "text": [
            "Score in train 0.8080773319788412\n",
            "Score in test 0.778447849764698\n",
            "\n",
            "Mean squared error:  240.52733647439368\n",
            "Coefficient of determination:  0.778447849764698\n"
          ]
        },
        {
          "output_type": "display_data",
          "data": {
            "text/plain": [
              "<Figure size 600x600 with 3 Axes>"
            ],
            "image/png": "[encoded data removed]"
          },
          "metadata": {}
        }
      ],
      "source": [
        "printModStats(model_xgb,X_train, Y_train,X_test, Y_test, showPlot=True)"
      ]
    },
    {
      "cell_type": "markdown",
      "metadata": {
        "id": "dSLkW7g224nj"
      },
      "source": [
        "Now we use the trained model to make predictions for those areas with protected areas"
      ]
    },
    {
      "cell_type": "code",
      "execution_count": 30,
      "metadata": {
        "id": "LW40wwuk6joa"
      },
      "outputs": [],
      "source": [
        "# First we need to scale the data for those observations without\n",
        "# protected areas\n",
        "X_PA = scaler.transform(X_PA_raw)"
      ]
    },
    {
      "cell_type": "code",
      "execution_count": 33,
      "metadata": {
        "id": "u_wtagGgJwmN"
      },
      "outputs": [],
      "source": [
        "# Lets define a function for our conterfactual that can be reused below\n",
        "def calculateConterfactual(mod,X_PA):\n",
        "  # Then use the train model to make predictions for protected areas\n",
        "  Y_PA_had = mod.predict(X_PA)\n",
        "\n",
        "  # Now we can compare the mean forest cover in protected area that we observer\n",
        "  print(f'Predicted mean forest cover in protected Areas {np.mean(Y_PA_had):0.2f} %' )\n",
        "  print(f'Actual mean forest cover in protected Areas {np.mean(Y_PA):0.2f} %', )\n",
        "  print(f'Mean difference between predicted and observed forest cover: {np.mean(Y_PA-Y_PA_had):0.2f} pp')\n"
      ]
    },
    {
      "cell_type": "code",
      "execution_count": 32,
      "metadata": {
        "id": "Djf7N-zj7M37",
        "outputId": "b6323d77-05e1-44bd-e534-77295227cf91",
        "colab": {
          "base_uri": "https://localhost:8080/"
        }
      },
      "outputs": [
        {
          "output_type": "stream",
          "name": "stdout",
          "text": [
            "Predicted mean forest cover in protected Areas 63.15 %\n",
            "Actual mean forest cover in protected Areas 64.64 %\n",
            "Mean difference between predicted and observed forest cover: 1.48 pp\n"
          ]
        }
      ],
      "source": [
        "# Call function for our xgb model\n",
        "## show predicted counterfactual\n",
        "calculateConterfactual(model_xgb,X_PA)"
      ]
    },
    {
      "cell_type": "code",
      "execution_count": 34,
      "metadata": {
        "id": "9pxCQ8okFsQU",
        "outputId": "e43cb8e8-f4e9-404f-b875-5d610dd11ab1",
        "colab": {
          "base_uri": "https://localhost:8080/",
          "height": 765
        }
      },
      "outputs": [
        {
          "output_type": "stream",
          "name": "stdout",
          "text": [
            "Score in train 0.8312086707360237\n",
            "Score in test 0.7853117945359334\n",
            "\n",
            "Mean squared error:  233.07551823756248\n",
            "Coefficient of determination:  0.7853117945359334\n",
            "Predicted mean forest cover in protected Areas 63.23 %\n",
            "Actual mean forest cover in protected Areas 64.64 %\n",
            "Mean difference between predicted and observed forest cover: 1.41 pp\n"
          ]
        },
        {
          "output_type": "display_data",
          "data": {
            "text/plain": [
              "<Figure size 600x600 with 3 Axes>"
            ],
            "image/png": "[encoded data removed]"
          },
          "metadata": {}
        }
      ],
      "source": [
        "# ================================\n",
        "#  Task\n",
        "# ================================\n",
        "\n",
        "# Until now we have always used the default hyperparameters for XGBoost\n",
        "# Lets see if we can improve model performance by optimizing some of those.\n",
        "# Usually this is a rather complex and time consuming task with many\n",
        "# different ways to approach this. Here we only try to optimize two paramters\n",
        "# manually. Specifically we want to optimize \"max_depth\" (Typical values: 3-10)\n",
        "# and \"min_child_weight\" (Typical values: 1-5).\n",
        "  # min_child_weight: Larger value = more conservative splits, helps prevent overfitting\n",
        "  # Typically,\n",
        "  # max_depth values are between 3 and 10: Larger depth = more complex model, more risk of overfitting.\n",
        "  # min_child_weight values are between 1 and 10: Larger value = more conservative splits, helps prevent overfitting\n",
        "  # default for XGBoost is max_depth=6, min_child_weight=1\n",
        "\n",
        "# Hint: The caculation is quite time consuming. Coordinate in your team\n",
        "#       to try as many combination as possible.\n",
        "\n",
        "# In case you are interested you can find a complete guide for doing\n",
        "# hyperparameter optimization for XGB here:\n",
        "# https://www.analyticsvidhya.com/blog/2016/03/complete-guide-parameter-tuning-xgboost-with-codes-python/\n",
        "# This is NOT required for this task here, just to give you an idea of how\n",
        "# many paramter can be optimized (Note, this referes to an older sklearn version,\n",
        "# therefore some of the code might need to be adjusted)\n",
        "\n",
        "# Specify model with \"max_depth\" and \"min_child_weight\" set explicitly\n",
        "## Let's set max_depth=7, min_child_weight=3\n",
        "model_xgb_opt = xgb.XGBRegressor(objective=\"reg:squarederror\",\n",
        "                                 random_state=42,\n",
        "                                 max_depth=7,\n",
        "                                 min_child_weight=3)\n",
        "\n",
        "# Fit model to train data\n",
        "model_xgb_opt.fit(X_train, Y_train)\n",
        "\n",
        "# Print stats\n",
        "printModStats(model_xgb_opt,X_train, Y_train,X_test, Y_test, showPlot=True)\n",
        "\n",
        "# Do conterfactual: predict\n",
        "calculateConterfactual(model_xgb_opt,X_PA)\n",
        "\n",
        "############################\n",
        "# Score improves slightly?"
      ]
    },
    {
      "cell_type": "code",
      "source": [
        "# ================================\n",
        "# to find optimal values, use Grid Search with cross-validation\n",
        "# ================================\n",
        "from sklearn.model_selection import GridSearchCV\n",
        "\n",
        "param_grid = {\n",
        "    'max_depth': [3, 5, 7, 9],           # try different tree depths\n",
        "    'min_child_weight': [1, 3, 5, 7]     # try different min_child_weight values\n",
        "}\n",
        "\n",
        "# Setup GridSearchCV\n",
        "grid_search = GridSearchCV(\n",
        "    estimator=model_xgb,\n",
        "    param_grid=param_grid,\n",
        "    scoring='neg_mean_squared_error',    # for regression\n",
        "    cv=5,                                # number of folds in cross-validation\n",
        "    verbose=1\n",
        ")\n",
        "\n",
        "# Fit on your training data (X_train, y_train)\n",
        "grid_search.fit(X_train, Y_train)\n",
        "\n",
        "# Get best parameters\n",
        "print(\"Best parameters:\", grid_search.best_params_)\n",
        "print(\"Best score:\", grid_search.best_score_)"
      ],
      "metadata": {
        "id": "QvVql4KO8fTm",
        "outputId": "235b935e-5345-4f71-94da-b94dddcfbc18",
        "colab": {
          "base_uri": "https://localhost:8080/"
        }
      },
      "execution_count": 36,
      "outputs": [
        {
          "output_type": "stream",
          "name": "stdout",
          "text": [
            "Fitting 5 folds for each of 16 candidates, totalling 80 fits\n",
            "Best parameters: {'max_depth': 9, 'min_child_weight': 5}\n",
            "Best score: -228.53516763298694\n"
          ]
        }
      ]
    },
    {
      "cell_type": "code",
      "source": [
        "# ================================\n",
        "#   max_depth=9, min_child_weight=5\n",
        "# ================================\n",
        "\n",
        "model_xgb_opt_9_5 = xgb.XGBRegressor(objective=\"reg:squarederror\",\n",
        "                                 random_state=42,\n",
        "                                 max_depth=9,\n",
        "                                 min_child_weight=5)\n",
        "\n",
        "# Fit model to train data\n",
        "model_xgb_opt_9_5.fit(X_train, Y_train)\n",
        "\n",
        "# Print stats\n",
        "printModStats(model_xgb_opt_9_5,X_train, Y_train,X_test, Y_test, showPlot=True)\n",
        "\n",
        "# Do conterfactual: predict\n",
        "calculateConterfactual(model_xgb_opt_9_5,X_PA)"
      ],
      "metadata": {
        "id": "H2d9v-1F-1hJ",
        "outputId": "397adaf6-bab4-4f27-9ee7-322d78aebeff",
        "colab": {
          "base_uri": "https://localhost:8080/",
          "height": 765
        }
      },
      "execution_count": 37,
      "outputs": [
        {
          "output_type": "stream",
          "name": "stdout",
          "text": [
            "Score in train 0.8873324521546384\n",
            "Score in test 0.7951081285024238\n",
            "\n",
            "Mean squared error:  222.4401616694991\n",
            "Coefficient of determination:  0.7951081285024238\n",
            "Predicted mean forest cover in protected Areas 62.71 %\n",
            "Actual mean forest cover in protected Areas 64.64 %\n",
            "Mean difference between predicted and observed forest cover: 1.93 pp\n"
          ]
        },
        {
          "output_type": "display_data",
          "data": {
            "text/plain": [
              "<Figure size 600x600 with 3 Axes>"
            ],
            "image/png": "[encoded data removed]"
          },
          "metadata": {}
        }
      ]
    },
    {
      "cell_type": "code",
      "execution_count": null,
      "metadata": {
        "id": "wsNLu-jzHKOk"
      },
      "outputs": [],
      "source": [
        "# ================================\n",
        "#  Optional Task\n",
        "# ================================\n",
        "\n",
        "# Try alternative ML models and check how they perform compared to XGBoost.\n",
        "# If you are using sklearn you often only have to replace one line in oder to\n",
        "# change your model. LightGBM for example is an alterantive to XGBoost that\n",
        "# gained popularity.\n",
        "# https://lightgbm.readthedocs.io/en/latest/pythonapi/lightgbm.LGBMRegressor.html#lightgbm.LGBMRegressor."
      ]
    },
    {
      "cell_type": "code",
      "source": [
        "# ================================\n",
        "#  use LightGBM\n",
        "# ================================\n",
        "from lightgbm import LGBMRegressor\n",
        "\n",
        "# Specify model\n",
        "model = LGBMRegressor(max_depth=5, learning_rate=0.05, n_estimators=100, random_state=42)\n",
        "\n",
        "model_lightgbm = LGBMRegressor(objective=\"regression\",\n",
        "                                 random_state=42)\n",
        "\n",
        "# Fit model to train data\n",
        "model_lightgbm.fit(X_train, Y_train)\n",
        "\n",
        "# Print stats\n",
        "printModStats(model_lightgbm,X_train, Y_train,X_test, Y_test, showPlot=True)\n",
        "\n",
        "# Do conterfactual: predict\n",
        "calculateConterfactual(model_lightgbm,X_PA)"
      ],
      "metadata": {
        "id": "4Ztg-Q7d51BZ",
        "outputId": "1a2fec6b-aba9-49c3-8783-9fa62e6907a7",
        "colab": {
          "base_uri": "https://localhost:8080/",
          "height": 991
        }
      },
      "execution_count": 39,
      "outputs": [
        {
          "output_type": "stream",
          "name": "stdout",
          "text": [
            "[LightGBM] [Info] Auto-choosing col-wise multi-threading, the overhead of testing was 0.042298 seconds.\n",
            "You can set `force_col_wise=true` to remove the overhead.\n",
            "[LightGBM] [Info] Total Bins 5865\n",
            "[LightGBM] [Info] Number of data points in the train set: 161929, number of used features: 23\n",
            "[LightGBM] [Info] Start training from score 38.469407\n"
          ]
        },
        {
          "output_type": "stream",
          "name": "stderr",
          "text": [
            "/usr/local/lib/python3.12/dist-packages/sklearn/utils/validation.py:2739: UserWarning: X does not have valid feature names, but LGBMRegressor was fitted with feature names\n",
            "  warnings.warn(\n"
          ]
        },
        {
          "output_type": "stream",
          "name": "stdout",
          "text": [
            "Score in train 0.7766591890859198\n"
          ]
        },
        {
          "output_type": "stream",
          "name": "stderr",
          "text": [
            "/usr/local/lib/python3.12/dist-packages/sklearn/utils/validation.py:2739: UserWarning: X does not have valid feature names, but LGBMRegressor was fitted with feature names\n",
            "  warnings.warn(\n"
          ]
        },
        {
          "output_type": "stream",
          "name": "stdout",
          "text": [
            "Score in test 0.7694924231652652\n"
          ]
        },
        {
          "output_type": "stream",
          "name": "stderr",
          "text": [
            "/usr/local/lib/python3.12/dist-packages/sklearn/utils/validation.py:2739: UserWarning: X does not have valid feature names, but LGBMRegressor was fitted with feature names\n",
            "  warnings.warn(\n"
          ]
        },
        {
          "output_type": "stream",
          "name": "stdout",
          "text": [
            "\n",
            "Mean squared error:  250.24976482666102\n",
            "Coefficient of determination:  0.7694924231652652\n"
          ]
        },
        {
          "output_type": "stream",
          "name": "stderr",
          "text": [
            "/usr/local/lib/python3.12/dist-packages/sklearn/utils/validation.py:2739: UserWarning: X does not have valid feature names, but LGBMRegressor was fitted with feature names\n",
            "  warnings.warn(\n"
          ]
        },
        {
          "output_type": "stream",
          "name": "stdout",
          "text": [
            "Predicted mean forest cover in protected Areas 63.70 %\n",
            "Actual mean forest cover in protected Areas 64.64 %\n",
            "Mean difference between predicted and observed forest cover: 0.93 pp\n"
          ]
        },
        {
          "output_type": "display_data",
          "data": {
            "text/plain": [
              "<Figure size 600x600 with 3 Axes>"
            ],
            "image/png": "[encoded data removed]"
          },
          "metadata": {}
        }
      ]
    },
    {
      "cell_type": "markdown",
      "metadata": {
        "id": "y0v6H7tP8Oq8"
      },
      "source": [
        "## Alternative approach\n",
        "\n",
        "- Train a model with \"protected areas\" included\n",
        "- Select only the protected areas (in the test set)\n",
        "- make a prediction for those areas for forest cover\n",
        "- make a prediction for those areas for forest cover where we set the explanatory variable for \"protected areas\" equal to zero i.e. we make a prediction for forest cover under the assumption that those areas where not protected"
      ]
    },
    {
      "cell_type": "code",
      "execution_count": null,
      "metadata": {
        "id": "lyIRMR3X4xCk"
      },
      "outputs": [],
      "source": [
        "# Define binary variable for deforestration in 2018\n",
        "\n",
        "Y_all = df['perc_treecover']\n",
        "# Define a list of features names (explantory variables)\n",
        "lstX = [\n",
        "   'wdpa_2017',\n",
        "  'population_2015',\n",
        "  'chirps_2017',\n",
        "  'maize',\n",
        "  'soy',\n",
        "  'sugarcane',\n",
        "  'perm_water',\n",
        "  'travel_min',\n",
        "  'cropland',\n",
        "  'mean_elev',\n",
        "  'sd_elev',\n",
        "  'near_road',\n",
        "  'wdpa_2017_lag_1st_order',\n",
        "  'chirps_2017_lag_1st_order',\n",
        "  'population_2015_lag_1st_order',\n",
        "  'maize_lag_1st_order',\n",
        "  'soy_lag_1st_order',\n",
        "  'sugarcane_lag_1st_order',\n",
        "  'perc_treecover_lag_1st_order',\n",
        "  'perm_water_lag_1st_order',\n",
        "  'travel_min_lag_1st_order',\n",
        "  'cropland_lag_1st_order',\n",
        "  'mean_elev_lag_1st_order',\n",
        "  'sd_elev_lag_1st_order',\n",
        "  'near_road_lag_1st_order',\n",
        " ]\n",
        "\n",
        "# Get the explanatory Variables\n",
        "X_all =  df.loc[:,lstX]"
      ]
    },
    {
      "cell_type": "code",
      "execution_count": null,
      "metadata": {
        "id": "X1KM91dB5pwy"
      },
      "outputs": [],
      "source": [
        "\n",
        "\n",
        "# Split the data into train and test using all observations\n",
        "\n",
        "# Use only the train data to fit the MinMaxScalar\n",
        "\n",
        "\n",
        "# Apply the MinMax transformation to the train and test data\n"
      ]
    },
    {
      "cell_type": "code",
      "execution_count": null,
      "metadata": {
        "id": "42uzaA5-5xMQ"
      },
      "outputs": [],
      "source": [
        "# train...\n"
      ]
    },
    {
      "cell_type": "code",
      "execution_count": null,
      "metadata": {
        "id": "ZDyt913g8F5-"
      },
      "outputs": [],
      "source": [
        "# Get only those observations which are protected areas\n"
      ]
    },
    {
      "cell_type": "code",
      "execution_count": null,
      "metadata": {
        "id": "B6wk-utf9AwZ"
      },
      "outputs": [],
      "source": [
        "# do prediction for these as if they were not protected areas\n"
      ]
    },
    {
      "cell_type": "code",
      "execution_count": null,
      "metadata": {
        "id": "OAeCcDPG8iJZ"
      },
      "outputs": [],
      "source": []
    },
    {
      "cell_type": "code",
      "execution_count": null,
      "metadata": {
        "id": "chjqTO7h81qp"
      },
      "outputs": [],
      "source": [
        "# And compare with the case they are protected\n",
        "\n"
      ]
    },
    {
      "cell_type": "code",
      "execution_count": null,
      "metadata": {
        "id": "6kMcZPeZ_s5i"
      },
      "outputs": [],
      "source": [
        "\n",
        "# Now we can compare the mean forest cover in protected area that we observer\n",
        "\n"
      ]
    },
    {
      "cell_type": "code",
      "execution_count": null,
      "metadata": {
        "id": "9JNWwRkK9lRV"
      },
      "outputs": [],
      "source": [
        "# => Discuss pro and cons of the two approaches"
      ]
    },
    {
      "cell_type": "markdown",
      "source": [
        "# Lab b: Causal Forest for deforestration example"
      ],
      "metadata": {
        "id": "gwcFQEF5RdZx"
      }
    },
    {
      "cell_type": "markdown",
      "source": [
        "Task: The code below illustrate how CausalForest could be used for the deforestration example (in a very simplified way).\n",
        "Before you run the code below think about how\n",
        "\n",
        "1) soy\n",
        "\n",
        "2) mean_elev\n",
        "\n",
        "3) near_road\n",
        "\n",
        "might effect treatment heterogeneity. Write down your hypothesis in the notebook below (e.g., I expecte the treatement effect to go down with the mean elevation because...). Note, that there is not one single right answer to this. The idea is that you think about the expected effect before actually running the model.\n",
        "  "
      ],
      "metadata": {
        "id": "bIEEyt3VirLa"
      }
    },
    {
      "cell_type": "code",
      "source": [
        "#####################\n",
        "### Your Task #######\n",
        "#####################\n",
        "# Your hypothesis for \"soy\"\n",
        "\"\"\"\n",
        "Your answer here:\n",
        "\"\"\""
      ],
      "metadata": {
        "id": "5rka8v5goJrY"
      },
      "execution_count": null,
      "outputs": []
    },
    {
      "cell_type": "code",
      "source": [
        "#####################\n",
        "### Your Task #######\n",
        "#####################\n",
        "# Your hypothesis for \"mean_elev\"\n",
        "\"\"\"\n",
        "Your answer here:\n",
        "\"\"\""
      ],
      "metadata": {
        "id": "S81Az8CloNOH"
      },
      "execution_count": null,
      "outputs": []
    },
    {
      "cell_type": "code",
      "source": [
        "#####################\n",
        "### Your Task #######\n",
        "#####################\n",
        "# Your hypothesis for \"near_road\"\n",
        "\"\"\"\n",
        "Your answer here:\n",
        "\"\"\""
      ],
      "metadata": {
        "id": "fHZ1S0uSoNWO"
      },
      "execution_count": null,
      "outputs": []
    },
    {
      "cell_type": "markdown",
      "source": [
        "### Now run the code below"
      ],
      "metadata": {
        "id": "RnBwSRD9lHTi"
      }
    },
    {
      "cell_type": "code",
      "source": [
        "# Install the econml package (if not already done above).\n",
        "# See documentation https://econml.azurewebsites.net/index.html\n",
        "!pip install -q econml"
      ],
      "metadata": {
        "id": "JhV2eTzlO6I4"
      },
      "execution_count": null,
      "outputs": []
    },
    {
      "cell_type": "code",
      "source": [
        "# Main imports\n",
        "from econml.orf import DMLOrthoForest, DROrthoForest\n",
        "from econml.dml import CausalForestDML\n",
        "from econml.sklearn_extensions.linear_model import WeightedLassoCVWrapper, WeightedLasso\n",
        "import shap\n",
        "import xgboost as xgb\n",
        "\n",
        "# Helper imports\n",
        "import os\n",
        "import pandas as pd\n",
        "import numpy as np\n",
        "from itertools import product\n",
        "from sklearn.linear_model import Lasso, LogisticRegression\n",
        "from sklearn.ensemble import RandomForestRegressor,RandomForestClassifier\n",
        "from sklearn.preprocessing import MinMaxScaler\n",
        "from sklearn.model_selection import train_test_split\n",
        "import matplotlib.pyplot as plt\n",
        "\n",
        "%matplotlib inline"
      ],
      "metadata": {
        "id": "-u8KCQS-SOgY"
      },
      "execution_count": null,
      "outputs": []
    },
    {
      "cell_type": "code",
      "source": [
        "# run this cell only once if you don't have wget installed\n",
        "# its assumed you are using windows and have python installed\n",
        "# only needed if you are running the notebook locally\n",
        "# %pip install wget\n",
        "#if not os.path.isfile('brazil_all_data_v2.gz'):\n",
        "#    !python -m wget  https://ilr-ml.s3.eu-central-1.amazonaws.com/brazil_all_data_v2.gz\n",
        "# Download data only once and make sure it is in the same folder as the notebook\n",
        "\n",
        "# check if brazil_all_data_v2.gz is available in the current folder and if not, download it\n",
        "\n",
        "if not os.path.isfile('brazil_all_data_v2.gz'):\n",
        "    !wget  https://ilr-ml.s3.eu-central-1.amazonaws.com/brazil_all_data_v2.gz"
      ],
      "metadata": {
        "id": "VWR2oa3nSP_p"
      },
      "execution_count": null,
      "outputs": []
    },
    {
      "cell_type": "code",
      "source": [
        "# Load data with pandas into a dataframe\n",
        "df = pd.read_parquet('brazil_all_data_v2.gz')"
      ],
      "metadata": {
        "id": "-oYaWsunSRhd"
      },
      "execution_count": null,
      "outputs": []
    },
    {
      "cell_type": "code",
      "source": [
        "# Define binary variable for deforestration in 2018\n",
        "Y_all = df['defor_2018']"
      ],
      "metadata": {
        "id": "NBLZ7oSlSSze"
      },
      "execution_count": null,
      "outputs": []
    },
    {
      "cell_type": "code",
      "source": [
        "# Define a list of features names (explantory variables)\n",
        "\n",
        "# This are the variables you include to derive treatment heterogeneity\n",
        "lstX = [\n",
        "  'soy',\n",
        "  'mean_elev',\n",
        "  'near_road',\n",
        " ]\n",
        "# This are the variables you include as controll variables\n",
        "lstW = [\n",
        "  # 'wdpa_2017',\n",
        "  'population_2015',\n",
        "  'chirps_2017',\n",
        "  'defor_2017',\n",
        "  'maize',\n",
        "  # 'soy',\n",
        "  'sugarcane',\n",
        "  'perc_treecover',\n",
        "  'perm_water',\n",
        "  'travel_min',\n",
        "  'cropland',\n",
        "  # 'mean_elev',\n",
        "  'sd_elev',\n",
        "  # 'near_road',\n",
        "  'defor_2017_lag_1st_order',\n",
        "  # 'wdpa_2017_lag_1st_order',\n",
        "  'chirps_2017_lag_1st_order',\n",
        "  'population_2015_lag_1st_order',\n",
        "  'maize_lag_1st_order',\n",
        "  'soy_lag_1st_order',\n",
        "  'sugarcane_lag_1st_order',\n",
        "  'perc_treecover_lag_1st_order',\n",
        "  'perm_water_lag_1st_order',\n",
        "  'travel_min_lag_1st_order',\n",
        "  'cropland_lag_1st_order',\n",
        "  'mean_elev_lag_1st_order',\n",
        "  'sd_elev_lag_1st_order',\n",
        "  'near_road_lag_1st_order',\n",
        " ]\n",
        "\n",
        "# Make sure that variables in lstX are not in lstW\n",
        "lstW = list(set(lstW)-set(lstX))\n",
        "\n",
        "X_all =  df.loc[:,lstX]\n",
        "W_all =  df.loc[:,lstW]\n",
        "T_all = df['wdpa_2017']\n"
      ],
      "metadata": {
        "id": "89DVNS9DSUSq"
      },
      "execution_count": null,
      "outputs": []
    },
    {
      "cell_type": "code",
      "source": [
        "# Split the data into train and test data using sklearn train_test_split object\n",
        "#   (see: https://scikit-learn.org/stable/modules/generated/sklearn.model_selection.train_test_split.html)\n",
        "\n",
        "# Note: This randomly split the data in 80% train and 20% test data\n",
        "X_train_raw, X_test_raw,W_train_raw, W_test_raw, T_train, T_test, Y_train, Y_test = train_test_split(X_all,W_all,T_all, Y_all, test_size = 0.2)"
      ],
      "metadata": {
        "id": "a9gtKn-MSXJA"
      },
      "execution_count": null,
      "outputs": []
    },
    {
      "cell_type": "code",
      "source": [
        "# Scale data to 0-1 range using sklearn MinMaxScalar object\n",
        "# (see: https://scikit-learn.org/stable/modules/generated/sklearn.preprocessing.MinMaxScaler.html)\n",
        "scalerX = MinMaxScaler()\n",
        "scalerW = MinMaxScaler()\n",
        "# Use only the train data to fit the MinMaxScalar\n",
        "scalerX.fit(X_train_raw)\n",
        "scalerW.fit(W_train_raw)\n",
        "\n",
        "# Apply the MinMax transformation to the train and test data\n",
        "X_train = scalerX.transform(X_train_raw)\n",
        "X_test = scalerX.transform(X_test_raw)\n",
        "W_train = scalerW.transform(W_train_raw)\n",
        "W_test = scalerW.transform(W_test_raw)\n",
        "# Note the depended variable does not need to be scaled as it is a binary variable anyway\n",
        "# Similarly, the treatment variables is between 0-1 and hence does not need to be scaled\n"
      ],
      "metadata": {
        "id": "LQpTBwKPSYy2"
      },
      "execution_count": null,
      "outputs": []
    },
    {
      "cell_type": "code",
      "source": [
        "# Now train a CausalForest mode, actually what are using here\n",
        "# is a combination of a CausalForest and \"Double Machine Learning\".\n",
        "# Double machine Learning allows to control for non-linear effect of W on\n",
        "# T and Y (by stripping out those effect) and then only estimate treatment\n",
        "# heterogeneity with respect to X\n",
        "\n",
        "# Note1: We substaintially reduce the number of estimators and the max_depth\n",
        "#        to reduce runtime. For an actual application you might want to\n",
        "#        consider higher values\n",
        "est1 = CausalForestDML(\n",
        "                       model_y=xgb.XGBRegressor(),\n",
        "                       model_t=xgb.XGBRegressor(),\n",
        "                       #  n_estimators=4000, min_samples_leaf=5,\n",
        "                       #  max_depth=50,\n",
        "                       n_estimators=100, min_samples_leaf=5,\n",
        "                       max_depth=5,\n",
        "                       verbose=0, random_state=123)\n",
        "# Tune the model (see documentation:\n",
        "# https://econml.azurewebsites.net/_autosummary/econml.dml.CausalForestDML.html#econml.dml.CausalForestDML.tune)\n",
        "# Note2: We also restrict the size of the training data in the next tuning step\n",
        "#        to reduce runtime. In an actual application you might not want to\n",
        "#        do this.\n",
        "# est1.tune(Y_train, T_train, X=X_train, W=W_train)\n",
        "est1.tune(Y_train[:20000], T_train[:20000], X=X_train[:20000], W=W_train[:20000])"
      ],
      "metadata": {
        "id": "YD9zELhPb1GN"
      },
      "execution_count": null,
      "outputs": []
    },
    {
      "cell_type": "code",
      "source": [
        "# Fit the model\n",
        "est1.fit(Y_train, T_train, X=X_train, W=W_train)"
      ],
      "metadata": {
        "id": "r_GFbwmb1wAx"
      },
      "execution_count": null,
      "outputs": []
    },
    {
      "cell_type": "code",
      "source": [
        "# Note: model_y and model_t are estimated multiple times using cross-validation\n",
        "#       est1.model_t containes a nested list of all the fitted models\n",
        "#       (default value for cross-validation is 2, hence there are two fitted\n",
        "#       instances in the list)\n",
        "print('Score test set model t (instance 0)',est1.models_t[0][0].score(np.concatenate([X_test,W_test],axis=1),T_test))\n",
        "print('Score test set model t (instance 1)',est1.models_t[0][1].score(np.concatenate([X_test,W_test],axis=1),T_test))\n",
        "print('Score test set model y (instance 0)',est1.models_y[0][0].score(np.concatenate([X_test,W_test],axis=1),Y_test))\n",
        "print('Score test set model y (instance 1)',est1.models_y[0][1].score(np.concatenate([X_test,W_test],axis=1),Y_test))"
      ],
      "metadata": {
        "id": "YBaG5-FntAVh"
      },
      "execution_count": null,
      "outputs": []
    },
    {
      "cell_type": "code",
      "source": [
        "#####################\n",
        "### Your Task #######\n",
        "#####################\n",
        "# What are these two numbers telling you\n",
        "\"\"\"\n",
        "Your answer here:\n",
        "\"\"\""
      ],
      "metadata": {
        "id": "W3q-LypGolR5"
      },
      "execution_count": null,
      "outputs": []
    },
    {
      "cell_type": "code",
      "source": [
        "print('Feature Importance for treatment heterogeneity')\n",
        "pd.DataFrame(est1.feature_importances_,index=lstX,columns=['feature_importances']).sort_values('feature_importances',ascending=False)"
      ],
      "metadata": {
        "id": "H9d6wnY2ScvL"
      },
      "execution_count": null,
      "outputs": []
    },
    {
      "cell_type": "code",
      "source": [
        "#####################\n",
        "### Your Task #######\n",
        "#####################\n",
        "# How do you interpret the above table. Explain in you own words.\n",
        "\"\"\"\n",
        "Your answer here:\n",
        "\"\"\""
      ],
      "metadata": {
        "id": "5PebUj4hnsDs"
      },
      "execution_count": null,
      "outputs": []
    },
    {
      "cell_type": "code",
      "source": [
        "# Calculate SHAP values for the first 1000 test samples\n",
        "shap_values = est1.shap_values(X_test[:10000],feature_names=lstX)\n"
      ],
      "metadata": {
        "id": "2FdMWHhSSeUA"
      },
      "execution_count": null,
      "outputs": []
    },
    {
      "cell_type": "code",
      "source": [
        "# Plot SHAP values (for treatment heterogeneity)\n",
        "shap.plots.beeswarm(shap_values['defor_2018']['wdpa_2017'])"
      ],
      "metadata": {
        "id": "DwCb4wI_uISI"
      },
      "execution_count": null,
      "outputs": []
    },
    {
      "cell_type": "code",
      "source": [
        "#####################\n",
        "### Your Task #######\n",
        "#####################\n",
        "# How do you interpret the plot above. Relate this to the hypothesis you\n",
        "# defined above\n",
        "\"\"\"\n",
        "Your answer here:\n",
        "\"\"\""
      ],
      "metadata": {
        "id": "dNV-ohHIn5oE"
      },
      "execution_count": null,
      "outputs": []
    },
    {
      "cell_type": "code",
      "source": [],
      "metadata": {
        "id": "UeNrRFg2RnO6"
      },
      "execution_count": null,
      "outputs": []
    }
  ],
  "metadata": {
    "colab": {
      "provenance": [],
      "include_colab_link": true
    },
    "kernelspec": {
      "display_name": "Python 3",
      "name": "python3"
    },
    "language_info": {
      "name": "python",
      "version": "3.7.11"
    },
    "vscode": {
      "interpreter": {
        "hash": "b2dd1c5c1941d22dfbdf86f16c96d8db5c09a3d6da608d7809bd79814f897e15"
      }
    }
  },
  "nbformat": 4,
  "nbformat_minor": 0
}